{
 "cells": [
  {
   "cell_type": "markdown",
   "id": "f7d685ca-2b15-436b-aa5c-6e487ca52527",
   "metadata": {},
   "source": [
    "# Dictionnaries\n"
   ]
  },
  {
   "cell_type": "markdown",
   "id": "352aae6c-3255-4c76-9aa5-1034e0b460cd",
   "metadata": {},
   "source": [
    "## Make a dictionnary  "
   ]
  },
  {
   "cell_type": "code",
   "execution_count": 1,
   "id": "8aa648b3-6f5e-4727-9940-b08cde32cc59",
   "metadata": {},
   "outputs": [],
   "source": [
    "my_dict = {'a': 6,'b':7, 'c': 50 }"
   ]
  },
  {
   "cell_type": "markdown",
   "id": "46ca630e-408b-4ba7-9c58-b5610b297ac6",
   "metadata": {},
   "source": [
    "'a' is the key.\n",
    "6 is the value of the dictionnary\n"
   ]
  },
  {
   "cell_type": "code",
   "execution_count": 10,
   "id": "a8b1dbbd-6f3a-4c17-bd7a-101095aadf28",
   "metadata": {},
   "outputs": [
    {
     "ename": "SyntaxError",
     "evalue": "closing parenthesis '}' does not match opening parenthesis '[' (<ipython-input-10-14158a682489>, line 1)",
     "output_type": "error",
     "traceback": [
      "\u001b[0;36m  File \u001b[0;32m\"<ipython-input-10-14158a682489>\"\u001b[0;36m, line \u001b[0;32m1\u001b[0m\n\u001b[0;31m    my_dict['a'}\u001b[0m\n\u001b[0m               ^\u001b[0m\n\u001b[0;31mSyntaxError\u001b[0m\u001b[0;31m:\u001b[0m closing parenthesis '}' does not match opening parenthesis '['\n"
     ]
    }
   ],
   "source": [
    "my_dict['a']\n"
   ]
  },
  {
   "cell_type": "code",
   "execution_count": 11,
   "id": "5671953a-3324-4a86-9a62-3900c13c6fc3",
   "metadata": {},
   "outputs": [
    {
     "data": {
      "text/plain": [
       "{'a': 6, 'b': 7, 'c': 27.6}"
      ]
     },
     "execution_count": 11,
     "metadata": {},
     "output_type": "execute_result"
    }
   ],
   "source": [
    "dict((('a', 6), ('b', 7), ('c', 27.6)))"
   ]
  },
  {
   "cell_type": "code",
   "execution_count": 12,
   "id": "ad0f39d9-2a86-4475-8c6f-24d06ea1f706",
   "metadata": {},
   "outputs": [
    {
     "data": {
      "text/plain": [
       "{'a': 'yes', 'b': 'no', 'c': 'maybe'}"
      ]
     },
     "execution_count": 12,
     "metadata": {},
     "output_type": "execute_result"
    }
   ],
   "source": [
    "dict(a='yes', b='no', c='maybe')"
   ]
  },
  {
   "cell_type": "markdown",
   "id": "56e31f19-47c4-404d-a160-b9a782038113",
   "metadata": {},
   "source": [
    "No need to get a string as a key. It can be a float but it is risky"
   ]
  },
  {
   "cell_type": "code",
   "execution_count": 17,
   "id": "e37ba0d8-7b0f-4955-a05e-2678f8304bfe",
   "metadata": {},
   "outputs": [],
   "source": [
    "aa_dict = {\n",
    "    \"A\": \"Ala\",\n",
    "    \"R\": \"Arg\",\n",
    "    \"N\": \"Asn\",\n",
    "    \"D\": \"Asp\",\n",
    "    \"C\": \"Cys\",\n",
    "    \"Q\": \"Gln\",\n",
    "    \"E\": \"Glu\",\n",
    "    \"G\": \"Gly\",\n",
    "    \"H\": \"His\",\n",
    "    \"I\": \"Ile\",\n",
    "    \"L\": \"Leu\",\n",
    "    \"K\": \"Lys\",\n",
    "    \"M\": \"Met\",\n",
    "    \"F\": \"Phe\",\n",
    "    \"P\": \"Pro\",\n",
    "    \"S\": \"Ser\",\n",
    "    \"T\": \"Thr\",\n",
    "    \"W\": \"Trp\",\n",
    "    \"Y\": \"Tyr\",\n",
    "    \"V\": \"Val\",\n",
    "}"
   ]
  },
  {
   "cell_type": "code",
   "execution_count": 18,
   "id": "cf1ec3b8-b5de-4cdb-a649-c4563c362bcd",
   "metadata": {},
   "outputs": [
    {
     "data": {
      "text/plain": [
       "'Ala'"
      ]
     },
     "execution_count": 18,
     "metadata": {},
     "output_type": "execute_result"
    }
   ],
   "source": [
    "aa_dict[\"A\"]"
   ]
  },
  {
   "cell_type": "code",
   "execution_count": 19,
   "id": "6df607e4-ea7a-4bce-a1df-9b80cd014c76",
   "metadata": {},
   "outputs": [
    {
     "name": "stdout",
     "output_type": "stream",
     "text": [
      "{'TTT': 'F', 'TTC': 'F', 'TTA': 'L', 'TTG': 'L', 'TCT': 'S', 'TCC': 'S', 'TCA': 'S', 'TCG': 'S', 'TAT': 'Y', 'TAC': 'Y', 'TAA': '*', 'TAG': '*', 'TGT': 'C', 'TGC': 'C', 'TGA': '*', 'TGG': 'W', 'CTT': 'L', 'CTC': 'L', 'CTA': 'L', 'CTG': 'L', 'CCT': 'P', 'CCC': 'P', 'CCA': 'P', 'CCG': 'P', 'CAT': 'H', 'CAC': 'H', 'CAA': 'Q', 'CAG': 'Q', 'CGT': 'R', 'CGC': 'R', 'CGA': 'R', 'CGG': 'R', 'ATT': 'I', 'ATC': 'I', 'ATA': 'I', 'ATG': 'M', 'ACT': 'T', 'ACC': 'T', 'ACA': 'T', 'ACG': 'T', 'AAT': 'N', 'AAC': 'N', 'AAA': 'K', 'AAG': 'K', 'AGT': 'S', 'AGC': 'S', 'AGA': 'R', 'AGG': 'R', 'GTT': 'V', 'GTC': 'V', 'GTA': 'V', 'GTG': 'V', 'GCT': 'A', 'GCC': 'A', 'GCA': 'A', 'GCG': 'A', 'GAT': 'D', 'GAC': 'D', 'GAA': 'E', 'GAG': 'E', 'GGT': 'G', 'GGC': 'G', 'GGA': 'G', 'GGG': 'G'}\n"
     ]
    }
   ],
   "source": [
    "# The set of DNA bases\n",
    "bases = ['T', 'C', 'A', 'G']\n",
    "\n",
    "# Build list of codons\n",
    "codon_list = []\n",
    "for first_base in bases:\n",
    "    for second_base in bases:\n",
    "        for third_base in bases:\n",
    "            codon_list += [first_base + second_base + third_base]\n",
    "\n",
    "# The amino acids that are coded for (* = STOP codon)\n",
    "amino_acids = 'FFLLSSSSYY**CC*WLLLLPPPPHHQQRRRRIIIMTTTTNNKKSSRRVVVVAAAADDEEGGGG'\n",
    "\n",
    "# Build dictionary from tuple of 2-tuples (technically an iterator, but it works)\n",
    "codons = dict(zip(codon_list, amino_acids))\n",
    "\n",
    "# Show that we did it\n",
    "print(codons)"
   ]
  },
  {
   "cell_type": "code",
   "execution_count": 20,
   "id": "eb48d862-8a76-40c5-af86-8813c84987c9",
   "metadata": {},
   "outputs": [
    {
     "name": "stdout",
     "output_type": "stream",
     "text": [
      "{'a': 6, 'b': 7, 'c': 50}\n",
      "{'a': 6, 'b': 7, 'c': 50, 'd': 'Bootcamp is so much fun!'}\n",
      "{'a': 'I was not satisfied with entry a.', 'b': 7, 'c': 50, 'd': 'Bootcamp is so much fun!'}\n"
     ]
    }
   ],
   "source": [
    "# Remind ourselves what the dictionary is\n",
    "print(my_dict)\n",
    "\n",
    "# Add an entry\n",
    "my_dict['d'] = 'Bootcamp is so much fun!'\n",
    "\n",
    "# Look at dictionary again\n",
    "print(my_dict)\n",
    "\n",
    "# Change an entry\n",
    "my_dict['a'] = 'I was not satisfied with entry a.'\n",
    "\n",
    "# Look at it again\n",
    "print(my_dict)"
   ]
  },
  {
   "cell_type": "markdown",
   "id": "d3727eb9-8b01-4184-977a-37290e8d725f",
   "metadata": {},
   "source": [
    "in and not in only work on keys. To do so, I can use my_dict.item()\n"
   ]
  },
  {
   "cell_type": "code",
   "execution_count": 23,
   "id": "38b05c35-2abd-4d21-9a0c-d11dd23e3912",
   "metadata": {},
   "outputs": [
    {
     "name": "stdout",
     "output_type": "stream",
     "text": [
      "a : I was not satisfied with entry a.\n",
      "b : 7\n",
      "c : 50\n",
      "d : Bootcamp is so much fun!\n",
      "Other solution\n",
      "a : I was not satisfied with entry a.\n",
      "b : 7\n",
      "c : 50\n",
      "d : Bootcamp is so much fun!\n"
     ]
    }
   ],
   "source": [
    "for key, value in my_dict.items():\n",
    "    print(key, ':', value)\n",
    "\n",
    "print('Other solution')\n",
    "for key in my_dict:\n",
    "    value = my_dict[key]\n",
    "    print(key, ':', value)"
   ]
  },
  {
   "cell_type": "code",
   "execution_count": 27,
   "id": "6c540ce7-664f-474c-9b31-cf636ab32545",
   "metadata": {},
   "outputs": [],
   "source": [
    "def concatenate_sequences(a, b, **kwargs):  # ** -> treats kwargs as a dictionnary\n",
    "    \"\"\"Concatenate (combine) 2 or more sequences.\"\"\"\n",
    "    seq = a + b\n",
    "\n",
    "    for key,value in kwargs.items():\n",
    "        seq += value\n",
    "\n",
    "    return seq"
   ]
  },
  {
   "cell_type": "code",
   "execution_count": 28,
   "id": "b0053ba7-c757-4bf1-a980-b1d28843af79",
   "metadata": {},
   "outputs": [
    {
     "data": {
      "text/plain": [
       "'TGACACCAGGGAGGGGGGGGGAAAATTTTT'"
      ]
     },
     "execution_count": 28,
     "metadata": {},
     "output_type": "execute_result"
    }
   ],
   "source": [
    "concatenate_sequences('TGACAC', 'CAGGGA', c='GGGGGGGGG', d='AAAATTTTT')"
   ]
  },
  {
   "cell_type": "code",
   "execution_count": 30,
   "id": "92f46be3-eb0f-42d2-9a00-9c8463985467",
   "metadata": {},
   "outputs": [
    {
     "data": {
      "text/plain": [
       "'TGACACCAGGGAGGGGGGGGGAAAATTTTT'"
      ]
     },
     "execution_count": 30,
     "metadata": {},
     "output_type": "execute_result"
    }
   ],
   "source": [
    "sequences = dict(a='TGACAC', b='CAGGGA', c='GGGGGGGGG', d='AAAATTTTT')\n",
    "\n",
    "concatenate_sequences(**sequences)"
   ]
  },
  {
   "cell_type": "code",
   "execution_count": 38,
   "id": "1f92e5aa-d621-404f-a688-12b9d36d40a7",
   "metadata": {},
   "outputs": [
    {
     "ename": "TypeError",
     "evalue": "concatenate_sequences() takes 2 positional arguments but 3 were given",
     "output_type": "error",
     "traceback": [
      "\u001b[0;31m---------------------------------------------------------------------------\u001b[0m",
      "\u001b[0;31mTypeError\u001b[0m                                 Traceback (most recent call last)",
      "\u001b[0;32m<ipython-input-38-328b751ee837>\u001b[0m in \u001b[0;36m<module>\u001b[0;34m\u001b[0m\n\u001b[1;32m      1\u001b[0m \u001b[0msequences1\u001b[0m \u001b[0;34m=\u001b[0m \u001b[0mdict\u001b[0m\u001b[0;34m(\u001b[0m\u001b[0mc\u001b[0m\u001b[0;34m=\u001b[0m\u001b[0;34m'GGGGGGGGG'\u001b[0m\u001b[0;34m,\u001b[0m \u001b[0md\u001b[0m\u001b[0;34m=\u001b[0m\u001b[0;34m'AAAATTTTT'\u001b[0m\u001b[0;34m)\u001b[0m\u001b[0;34m\u001b[0m\u001b[0;34m\u001b[0m\u001b[0m\n\u001b[0;32m----> 2\u001b[0;31m \u001b[0mconcatenate_sequences\u001b[0m\u001b[0;34m(\u001b[0m\u001b[0;34m''\u001b[0m\u001b[0;34m,\u001b[0m\u001b[0;34m' '\u001b[0m\u001b[0;34m,\u001b[0m\u001b[0msequences1\u001b[0m\u001b[0;34m)\u001b[0m\u001b[0;34m\u001b[0m\u001b[0;34m\u001b[0m\u001b[0m\n\u001b[0m",
      "\u001b[0;31mTypeError\u001b[0m: concatenate_sequences() takes 2 positional arguments but 3 were given"
     ]
    }
   ],
   "source": [
    "sequences1 = dict(c='GGGGGGGGG', d='AAAATTTTT')\n",
    "concatenate_sequences('',' ',sequences1)\n"
   ]
  },
  {
   "cell_type": "code",
   "execution_count": null,
   "id": "3feeb27a-76eb-43f9-a3fa-40014fd992aa",
   "metadata": {},
   "outputs": [],
   "source": []
  }
 ],
 "metadata": {
  "kernelspec": {
   "display_name": "Python 3",
   "language": "python",
   "name": "python3"
  },
  "language_info": {
   "codemirror_mode": {
    "name": "ipython",
    "version": 3
   },
   "file_extension": ".py",
   "mimetype": "text/x-python",
   "name": "python",
   "nbconvert_exporter": "python",
   "pygments_lexer": "ipython3",
   "version": "3.8.10"
  }
 },
 "nbformat": 4,
 "nbformat_minor": 5
}
