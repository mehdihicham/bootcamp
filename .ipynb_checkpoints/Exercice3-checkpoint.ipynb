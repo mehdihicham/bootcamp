{
 "cells": [
  {
   "cell_type": "markdown",
   "id": "7e6a376f-6366-479b-be43-190b98d4fe6b",
   "metadata": {},
   "source": [
    "# Exercice 3"
   ]
  },
  {
   "cell_type": "markdown",
   "id": "05163b5d-cc9a-4f29-a244-73e55c63a39d",
   "metadata": {},
   "source": [
    "## Exercice 3.1"
   ]
  },
  {
   "cell_type": "code",
   "execution_count": 1,
   "id": "da19235e-b747-4dbb-abfd-50def4c8bf43",
   "metadata": {},
   "outputs": [],
   "source": [
    "import os\n",
    "import glob"
   ]
  },
  {
   "cell_type": "code",
   "execution_count": 2,
   "id": "369de5c3-0eb3-4280-b612-0d78ebc819a3",
   "metadata": {},
   "outputs": [],
   "source": [
    "def sequence_parser (fasta):\n",
    "    \"\"\"input: a Fasta file\n",
    "        output : tuple (descriptor,sequence) with descriptor being the first line of the fasta file\n",
    "    \"\"\"\n",
    "    with open (fasta,'r') as f:\n",
    "        lines = f.readlines()\n",
    "        descriptor =lines[0]\n",
    "        sequence = lines[1:]\n",
    "        sequence = [line.rstrip() for line in sequence]\n",
    "        sequence = ''.join(sequence)\n",
    "        \n",
    "        return descriptor, sequence"
   ]
  },
  {
   "cell_type": "code",
   "execution_count": 3,
   "id": "6cfdf706-9f4a-4caa-a378-37efa2b20466",
   "metadata": {},
   "outputs": [
    {
     "name": "stdout",
     "output_type": "stream",
     "text": [
      ">gi|821161554|gb|CP011428.1| Salmonella enterica subsp. enterica strain YU39, complete genome, subsequence 3000000 to 3200000\n",
      "\n"
     ]
    },
    {
     "data": {
      "text/plain": [
       "'AAAACCTTAGTAACTGGACTGCTGGGATTTTTCAGCCTGGATACGCTGGTAGATCTCTTCACGATGGACAGAAACTTCTTTCGGGGCGTTCACGCCAATACGCACCTGGTTGCCCTTCACCCCTAAAACTGTCACGGTGACCTCATCGCCAATCATGAGGGTCTCACCAACTCGACGAGTCAGAATCAGCATTCTTTGCTCCTTGAAAGATTAAAAGAGTCGGGTCTCTCTGTATCCCGGCATTATCCATCATATAACGCCAAAAAGTAAGCGATGACAAACACCTTAGGTGTAAGCAGTCATGGCATTACATTCTGTTAAACCTAAGTTTAGCCGATATACAAAACTTCAACCTGACTTTATCGTTGTCGATAGCGTTGACGTAAACGCCGCAGCACGGGCTGCGGCGCCAACGAACGCTTATAATTATTGCAATTTTGCGCTGACCCAGCCTTGTACACTGGCTAACGCTGCAGGCAGAGCTGCCGCATCCGTACCACCGGCTTGCGCCATGTCCGGACGACCGCCACCCTTACCGCCCACCTGCTGAGCGACCATCCCAATCAATTCCCCTGCTTTAACCCGGTCGGTCACATCCTTCGACACGCCCGCAATCAGAGAAACCTTACCTTCAACAACCGTTGCCAGTACGATAACGGTAGACCCCAGTTGATTTTTCAGATCATCAACCATGGTTCGCAGCATTTTCGGCTCAATACCAGCAAGCTCGCTAACCAGGAGCTTCACGCCGTTGAGATCGACCGCTTTACTGGAAAGATTTGCACTCTCCTGCGCTGCGGCCTGGTCCTTCAACTGCTGCAACTCTTTTTCCAGCTGACGTGTACGTTCCAGCACGGCACGCACTTTGTCGCCCAGATTCTGGCTGTCGCCCTTCAGCAGATGCGCAATATCGTTTAAGCGATCGCTTTGCGCATGAACGGTGGCCATAGCGCCTTCACCGGTTACCGCCTCAATACGACGAATGCCCGCTGCGGTGCCG'"
      ]
     },
     "execution_count": 3,
     "metadata": {},
     "output_type": "execute_result"
    }
   ],
   "source": [
    "descr_salmo,sequence_salmo =sequence_parser('data/salmonella_spi1_region.fna')\n",
    "print(descr_salmo)\n",
    "sequence_salmo[:1000]"
   ]
  },
  {
   "cell_type": "markdown",
   "id": "46cd35f1-a519-4341-ac96-42012dd6f14a",
   "metadata": {},
   "source": [
    "## Exercice 3.2\n"
   ]
  },
  {
   "cell_type": "markdown",
   "id": "3cbf78b5-5282-47e6-a6bb-2fe8eaeb7cf2",
   "metadata": {},
   "source": [
    "First, we need to copy and paste the NEB file in a text editor, and put the extension .fna"
   ]
  },
  {
   "cell_type": "code",
   "execution_count": 4,
   "id": "02a29376-b068-4382-ae25-e50a5fabe529",
   "metadata": {},
   "outputs": [
    {
     "data": {
      "text/plain": [
       "'GGGCGGCGACCTCGCGGGTTTTCGCTATTTATGAAAATTTTCCGGTTTAAGGCGTTTCCGTTCTTCTTCGTCATAACTTAATGTTTTTATTTAAAATACCCTCTGAAAAGAAAGGAAACGACAGGTGCTGAAAGCGAGGCTTTTTGGCCTCTGTCGTTTCCTTTCTCTGTTTTTGTCCGTGGAATGAACAATGGAAGTCAACAAAAAGCAGCTGGCTGACATTTTCGGTGCGAGTATCCGTACCATTCAGAACTGGCAGGAACAGGGAATGCCCGTTCTGCGAGGCGGTGGCAAGGGTAATGAGGTGCTTTATGACTCTGCCGCCGTCATAAAATGGTATGCCGAAAGGGATGCTGAAATTGAGAACGAAAAGCTGCGCCGGGAGGTTGAAGAACTGCGGCAGGCCAGCGAGGCAGATCTCCAGCCAGGAACTATTGAGTACGAACGCCATCGACTTACGCGTGCGCAGGCCGACGCACAGGAACTGAAGAATGCCAGAGACTCCGCTGAAGTGGTGGAAACCGCATTCTGTACTTTCGTGCTGTCGCGGATCGCAGGTGAAATTGCCAGTATTCTCGACGGGCTCCCCCTGTCGGTGCAGCGGCGTTTTCCGGAACTGGAAAACCGACATGTTGATTTCCTGAAACGGGATATCATCAAAGCCATGAACAAAGCAGCCGCGCTGGATGAACTGATACCGGGGTTGCTGAGTGAATATATCGAACAGTCAGGTTAACAGGCTGCGGCATTTTGTCCGCGCCGGGCTTCGCTCACTGTTCAGGCCGGAGCCACAGACCGCCGTTGAATGGGCGGATGCTAATTACTATCTCCCGAAAGAATCCGCATACCAGGAAGGGCGCTGGGAAACACTGCCCTTTCAGCGGGCCATCATGAATGCGATGGGCAGCGACTACATCCGTGAGGTGAATGTGGTGAAGTCTGCCCGTGTCGGTTATTCCAAAATGCTGCTGGGTGTTTATGCCTACTTTATAGAGCATAA'"
      ]
     },
     "execution_count": 4,
     "metadata": {},
     "output_type": "execute_result"
    }
   ],
   "source": [
    "fasta_phage = 'data/lambda.fna'\n",
    "descr_phage,sequence_phage = sequence_parser(fasta_phage)\n",
    "sequence_phage[:1000]"
   ]
  },
  {
   "cell_type": "code",
   "execution_count": 5,
   "id": "e5aff00e-8408-40f2-be4d-d930dc70650e",
   "metadata": {},
   "outputs": [],
   "source": [
    "def restriction_sites(seq, recog_seq):\n",
    "    \"\"\"Determines the positions of the first base of the enzyme's recognition site \n",
    "    in a given genome sequence \"\"\"\n",
    "    recog_index = []\n",
    "    seq_length = len(seq)\n",
    "    recog_length = len(recog_seq)\n",
    "    \n",
    "    for i in range (0,seq_length-recog_length):\n",
    "        if recog_seq == seq[i:i+recog_length]:\n",
    "            recog_index.append(i)\n",
    "    return recog_index\n",
    "            "
   ]
  },
  {
   "cell_type": "code",
   "execution_count": 6,
   "id": "bbef367f-f844-419e-ae17-d93ed00f3b37",
   "metadata": {},
   "outputs": [
    {
     "data": {
      "text/plain": [
       "\u001b[0;31mSignature:\u001b[0m \u001b[0mrestriction_sites\u001b[0m\u001b[0;34m(\u001b[0m\u001b[0mseq\u001b[0m\u001b[0;34m,\u001b[0m \u001b[0mrecog_seq\u001b[0m\u001b[0;34m)\u001b[0m\u001b[0;34m\u001b[0m\u001b[0;34m\u001b[0m\u001b[0m\n",
       "\u001b[0;31mDocstring:\u001b[0m\n",
       "Determines the positions of the first base of the enzyme's recognition site \n",
       "in a given genome sequence \n",
       "\u001b[0;31mFile:\u001b[0m      ~/git/bootcamp/<ipython-input-5-94d0f72fa265>\n",
       "\u001b[0;31mType:\u001b[0m      function\n"
      ]
     },
     "metadata": {},
     "output_type": "display_data"
    }
   ],
   "source": [
    "?restriction_sites"
   ]
  },
  {
   "cell_type": "code",
   "execution_count": 7,
   "id": "b046c41e-4604-412e-9448-fc1ea7398b08",
   "metadata": {},
   "outputs": [
    {
     "name": "stdout",
     "output_type": "stream",
     "text": [
      "[23129, 25156, 27478, 36894, 37458, 37583, 44140]\n",
      "[21225, 26103, 31746, 39167, 44971]\n",
      "[17052, 18555]\n"
     ]
    }
   ],
   "source": [
    "HindIII = 'AAGCTT'\n",
    "EcoRI = 'GAATTC'\n",
    "KpnI = 'GGTACC'\n",
    "\n",
    "HIII = restriction_sites(sequence_phage,HindIII)\n",
    "EcI = restriction_sites(sequence_phage,EcoRI)\n",
    "KpI = restriction_sites(sequence_phage,KpnI)\n",
    "print(HIII)\n",
    "print(EcI)\n",
    "print(KpI)"
   ]
  },
  {
   "cell_type": "code",
   "execution_count": 8,
   "id": "1c912972-247d-4b04-8e0b-7a81b4e7a7d5",
   "metadata": {},
   "outputs": [
    {
     "data": {
      "text/plain": [
       "True"
      ]
     },
     "execution_count": 8,
     "metadata": {},
     "output_type": "execute_result"
    }
   ],
   "source": [
    "sequence_phage[37583:37583+len(HindIII)] == HindIII"
   ]
  },
  {
   "cell_type": "markdown",
   "id": "87d7582a-fe3c-4553-ac75-b7b96061164c",
   "metadata": {},
   "source": [
    "# Exercice 4\n"
   ]
  },
  {
   "cell_type": "markdown",
   "id": "22d4124a-a71b-4524-b187-c4d9fecef952",
   "metadata": {},
   "source": [
    "## exercice 4.1"
   ]
  },
  {
   "cell_type": "code",
   "execution_count": 9,
   "id": "76877d2d-56c5-4ec3-8924-bfd0f349c668",
   "metadata": {},
   "outputs": [],
   "source": [
    "seq = 'ATGACTACGT' \n",
    "block_size = 4"
   ]
  },
  {
   "cell_type": "code",
   "execution_count": 10,
   "id": "78199697-95f8-40ba-a296-103df12ca6f3",
   "metadata": {},
   "outputs": [],
   "source": [
    "def seq_block(seq,block_size):\n",
    "    blocks = []\n",
    "    for i in range(0,len(seq),block_size):\n",
    "        block = seq[i:i+block_size]\n",
    "        if len(block) == block_size:\n",
    "            blocks.append(block)\n",
    "    return blocks"
   ]
  },
  {
   "cell_type": "code",
   "execution_count": 11,
   "id": "29b7657a-cbba-47bf-98e3-f17111f234d1",
   "metadata": {},
   "outputs": [
    {
     "data": {
      "text/plain": [
       "['ATGA', 'CTAC']"
      ]
     },
     "execution_count": 11,
     "metadata": {},
     "output_type": "execute_result"
    }
   ],
   "source": [
    "seq_block(seq,block_size)"
   ]
  },
  {
   "cell_type": "code",
   "execution_count": 12,
   "id": "dde0fdc4-8338-4e29-8636-6ddb1c9cda7e",
   "metadata": {},
   "outputs": [],
   "source": [
    "def gc_block(seq,block_size):\n",
    "    gc = []\n",
    "    seq.upper()\n",
    "    for i in range(0,len(seq),block_size):\n",
    "        block = seq[i:i+block_size]\n",
    "        if len(block) == block_size:\n",
    "            gc.append((block.count('G')+block.count('C'))/block_size)\n",
    "    return tuple(gc)\n",
    "            \n",
    "        "
   ]
  },
  {
   "cell_type": "code",
   "execution_count": 13,
   "id": "c3518273-eac8-47b4-bae1-3dfc4d2dc4c9",
   "metadata": {},
   "outputs": [
    {
     "data": {
      "text/plain": [
       "(0.25, 0.5)"
      ]
     },
     "execution_count": 13,
     "metadata": {},
     "output_type": "execute_result"
    }
   ],
   "source": [
    "gc_block(seq,block_size)"
   ]
  },
  {
   "cell_type": "code",
   "execution_count": 14,
   "id": "db234747-3016-4287-b2ee-ce5c9289fc43",
   "metadata": {},
   "outputs": [],
   "source": [
    "def gc_map(seq, block_size, gc_thresh):\n",
    "    \n",
    "    #First make sure all the bases are uppercase\n",
    "    seq.upper()\n",
    "    bl=''\n",
    "    gc_content = gc_block(seq,block_size)\n",
    "    seq_blocks =seq_block(seq,block_size)\n",
    "    for i,_ in enumerate(gc_content):\n",
    "        if gc_content[i] < gc_thresh:\n",
    "            bl += seq_blocks[i].lower()\n",
    "        else:\n",
    "            bl += seq_blocks[i]\n",
    "            \n",
    "    return bl"
   ]
  },
  {
   "cell_type": "code",
   "execution_count": 15,
   "id": "e105f307-1f65-4068-8b7a-591d018109c6",
   "metadata": {},
   "outputs": [
    {
     "data": {
      "text/plain": [
       "'atgaCTAC'"
      ]
     },
     "execution_count": 15,
     "metadata": {},
     "output_type": "execute_result"
    }
   ],
   "source": [
    "gc_map(seq, block_size, 0.4)"
   ]
  },
  {
   "cell_type": "code",
   "execution_count": 16,
   "id": "f96f74b4-db24-4b67-97a5-07b95881a3a5",
   "metadata": {},
   "outputs": [],
   "source": [
    "salmo_map = gc_map(sequence_salmo,1000,0.45)"
   ]
  },
  {
   "cell_type": "code",
   "execution_count": 17,
   "id": "1ccfb6cb-ada1-4b8a-b963-be4705cc711f",
   "metadata": {},
   "outputs": [
    {
     "data": {
      "text/plain": [
       "333"
      ]
     },
     "execution_count": 17,
     "metadata": {},
     "output_type": "execute_result"
    }
   ],
   "source": [
    "20000//60"
   ]
  },
  {
   "cell_type": "code",
   "execution_count": 18,
   "id": "911ebe7d-eb96-4e96-ac72-7c50be717ee3",
   "metadata": {},
   "outputs": [
    {
     "name": "stdout",
     "output_type": "stream",
     "text": [
      "200000\n"
     ]
    }
   ],
   "source": [
    "length_salmo =len(sequence_salmo)\n",
    "print(length_salmo)\n",
    "salmo_ = sequence_salmo.split(' ',60)\n",
    "\n",
    "\n",
    "\n",
    "#if os.path.isfile('salmo_map.txt'):\n",
    "#    raise RuntimeError('salmo_map.txt already exists.')\n",
    "\n",
    "    \n",
    "#with open('salmo_map.txt','w') as f:\n",
    "#    f.write(salmo_map)\n"
   ]
  },
  {
   "cell_type": "markdown",
   "id": "8cc343b1-f9c9-44b8-bb39-1edb68ec50f9",
   "metadata": {},
   "source": [
    "## Exercice 4.2\n"
   ]
  },
  {
   "cell_type": "code",
   "execution_count": 19,
   "id": "568334f2-b966-4c46-9189-1fbc6c96e76d",
   "metadata": {},
   "outputs": [],
   "source": [
    "#we work with codons so we might need codons conversion\n",
    "import bootcamp_utils"
   ]
  },
  {
   "cell_type": "code",
   "execution_count": 47,
   "id": "9c7caec5-27cd-4320-a36d-73af0688ccef",
   "metadata": {},
   "outputs": [
    {
     "data": {
      "text/plain": [
       "11"
      ]
     },
     "execution_count": 47,
     "metadata": {},
     "output_type": "execute_result"
    }
   ],
   "source": [
    "seq = 'GGATGATGATGTAAAAC'\n",
    "seq.find('TAA')\n"
   ]
  },
  {
   "cell_type": "code",
   "execution_count": 48,
   "id": "5f67ebb2-ec6a-46a3-a963-68cd72efe328",
   "metadata": {},
   "outputs": [],
   "source": [
    "def all_start(seq):\n",
    "    i =seq.find('ATG')\n",
    "    starts = []\n",
    "    while i >= 0:\n",
    "        starts.append(i)\n",
    "        i = seq.find('ATG', i + 1)\n",
    "    return starts"
   ]
  },
  {
   "cell_type": "code",
   "execution_count": 49,
   "id": "a0b97f84-d6e8-498b-b9d3-5ada89506659",
   "metadata": {},
   "outputs": [],
   "source": [
    "def first_stop1(seq):\n",
    "    stop = []\n",
    "    i = 0       \n",
    "    while i < len(seq) - 2 and seq[i:i+3] not in ('TAA', 'TAG', 'TGA'):\n",
    "        i += 3\n",
    "    #we need to return the last base of stop codon\n",
    "    return i + 3"
   ]
  },
  {
   "cell_type": "code",
   "execution_count": 53,
   "id": "62f9c642-03b7-4c16-a457-76b212864f60",
   "metadata": {},
   "outputs": [],
   "source": [
    "def first_stop(seq):\n",
    "    i = seq.find('TAA') \n",
    "    j = seq.find('TAG') \n",
    "    k = seq.find('TGA') \n",
    "    first = \n",
    "        \n",
    "    "
   ]
  },
  {
   "cell_type": "code",
   "execution_count": 55,
   "id": "667924ee-2037-445c-8d47-64d7e8e7c92c",
   "metadata": {},
   "outputs": [
    {
     "name": "stdout",
     "output_type": "stream",
     "text": [
      "-1\n"
     ]
    },
    {
     "data": {
      "text/plain": [
       "1"
      ]
     },
     "execution_count": 55,
     "metadata": {},
     "output_type": "execute_result"
    }
   ],
   "source": [
    "print(first_stop(seq))\n",
    "min(1,2,3)"
   ]
  },
  {
   "cell_type": "code",
   "execution_count": 45,
   "id": "504c0a1f-4fd5-414e-888e-fb77d88774aa",
   "metadata": {},
   "outputs": [],
   "source": [
    "def longest_ORF1(seq):\n",
    "    ORF = []\n",
    "    start = all_start(seq)\n",
    "    stop = 0\n",
    "    for i,id_start in enumerate(start):\n",
    "        stop = first_stop(seq[id_start:])\n",
    "        print(stop, id_start)\n",
    "        if (stop - id_start) % 3 == 0 :\n",
    "            ORF.append(seq[id_start:stop])\n",
    "        \n",
    "    return ORF\n",
    "    \n",
    "    \n",
    "    "
   ]
  },
  {
   "cell_type": "code",
   "execution_count": 42,
   "id": "facc2c10-051e-4d61-b3cc-f1b8dcf2061b",
   "metadata": {},
   "outputs": [
    {
     "name": "stdout",
     "output_type": "stream",
     "text": [
      "12 2\n",
      "9 5\n",
      "6 8\n"
     ]
    },
    {
     "data": {
      "text/plain": [
       "[]"
      ]
     },
     "execution_count": 42,
     "metadata": {},
     "output_type": "execute_result"
    }
   ],
   "source": [
    "longest_ORF1(seq)"
   ]
  },
  {
   "cell_type": "code",
   "execution_count": 25,
   "id": "059922c9-1265-4553-8704-0a74538d21cc",
   "metadata": {},
   "outputs": [],
   "source": [
    "\n",
    "def all_stop(seq):\n",
    "    taa = []\n",
    "    tag = []\n",
    "    tga = []\n",
    "    \n",
    "    \n",
    "    #first start with taa\n",
    "    i = seq.find('TAA') \n",
    "    while i >= 0:\n",
    "        taa.append(i+3)\n",
    "        i = seq.find('ATG', i + 1)\n",
    "    #then tag\n",
    "    \n",
    "    j = seq.find('TAG')\n",
    "    while j >= 0:\n",
    "        tag.append(j+3)\n",
    "        j = seq.find('TAG', j + 1)\n",
    "    \n",
    "    #and tga \n",
    "    k = seq.find('TGA')\n",
    "    while k >= 0:\n",
    "        tga.append(k+3)\n",
    "        k = seq.find('TGA', k + 1)\n",
    "    \n",
    "    return taa+tga+tag \n",
    "    "
   ]
  },
  {
   "cell_type": "code",
   "execution_count": 26,
   "id": "9d4e682d-1f58-4119-9ccf-76f782f61f4a",
   "metadata": {},
   "outputs": [
    {
     "data": {
      "text/plain": [
       "[2, 5, 8]"
      ]
     },
     "execution_count": 26,
     "metadata": {},
     "output_type": "execute_result"
    }
   ],
   "source": [
    "a= all_start(seq)\n",
    "a"
   ]
  },
  {
   "cell_type": "code",
   "execution_count": 27,
   "id": "323f1d8a-bc12-4ddf-99e7-826892be8c3d",
   "metadata": {},
   "outputs": [
    {
     "data": {
      "text/plain": [
       "[14, 6, 9]"
      ]
     },
     "execution_count": 27,
     "metadata": {},
     "output_type": "execute_result"
    }
   ],
   "source": [
    "b = all_stop(seq)\n",
    "b"
   ]
  },
  {
   "cell_type": "code",
   "execution_count": 28,
   "id": "cfc4f4a0-6677-45e9-9912-8d044551d445",
   "metadata": {},
   "outputs": [],
   "source": [
    "def find_ORF(seq):\n",
    "    ORF = []\n",
    "    start = all_start(seq)\n",
    "    \n",
    "    stop = all_stop(seq)\n",
    "    \n",
    "    for i in start:\n",
    "        for j in stop : \n",
    "            \n",
    "            if (j - i) % 3 == 0:\n",
    "                ORF.append(seq[i:j])\n",
    "    return tuple(ORF)\n",
    "    "
   ]
  },
  {
   "cell_type": "code",
   "execution_count": 29,
   "id": "064295f5-3988-4408-b853-c25a6c21f756",
   "metadata": {},
   "outputs": [
    {
     "data": {
      "text/plain": [
       "('ATGATGATGTAA', 'ATGATGTAA', 'ATGTAA')"
      ]
     },
     "execution_count": 29,
     "metadata": {},
     "output_type": "execute_result"
    }
   ],
   "source": [
    "find_ORF(seq)"
   ]
  },
  {
   "cell_type": "code",
   "execution_count": 30,
   "id": "3d210c82-c5d6-4852-aa21-3ad90883d3b5",
   "metadata": {},
   "outputs": [],
   "source": [
    "def longestORF(seq):\n",
    "    temp =[\"\"]\n",
    "    ORF = find_ORF(seq)\n",
    "    for i in ORF : \n",
    "        print(len(i))\n",
    "        if len(i) > len(temp[0]):\n",
    "            temp[0] = i\n",
    "    return temp\n",
    "    \n",
    "    "
   ]
  },
  {
   "cell_type": "code",
   "execution_count": 31,
   "id": "3769485b-0f38-4c28-8a2c-b6af32ab3f88",
   "metadata": {},
   "outputs": [],
   "source": [
    "#long_ORF_salmo = longestORF(sequence_salmo) #I can't do it, my code is not optimized at all because I get all the \n",
    "#a = all_start(sequence_salmo)"
   ]
  },
  {
   "cell_type": "code",
   "execution_count": 32,
   "id": "8c90835e-74e1-4116-a1b8-1f7354530437",
   "metadata": {},
   "outputs": [
    {
     "data": {
      "text/plain": [
       "3"
      ]
     },
     "execution_count": 32,
     "metadata": {},
     "output_type": "execute_result"
    }
   ],
   "source": [
    "len(a)"
   ]
  },
  {
   "cell_type": "code",
   "execution_count": 33,
   "id": "4ad5ea5b-1375-4bfb-b448-cac3b839a446",
   "metadata": {},
   "outputs": [
    {
     "name": "stdout",
     "output_type": "stream",
     "text": [
      "12\n",
      "9\n",
      "6\n"
     ]
    },
    {
     "data": {
      "text/plain": [
       "['ATGATGATGTAA']"
      ]
     },
     "execution_count": 33,
     "metadata": {},
     "output_type": "execute_result"
    }
   ],
   "source": [
    "longestORF(seq)"
   ]
  },
  {
   "cell_type": "code",
   "execution_count": 34,
   "id": "6715a0fd-7b7b-4d60-b55c-3296761b1ee7",
   "metadata": {},
   "outputs": [],
   "source": [
    "def DNA_prot(seq):\n",
    "    #we will assume that the protein is the transduction/translation of the longest ORF\n",
    "    \n",
    "    #ORF = longestORF(seq)\n",
    "    prot_seq = \"\"\n",
    "    for i in range(0,len(seq)-3,3):\n",
    "        \n",
    "        prot_seq += bootcamp_utils.codons[seq[i:i+3]]\n",
    "    return prot_seq\n",
    "        "
   ]
  },
  {
   "cell_type": "code",
   "execution_count": 35,
   "id": "c2ac7bee-9954-4270-96f8-97e3aa437ab2",
   "metadata": {},
   "outputs": [],
   "source": [
    "prot_seq = DNA_prot('ATGATGATGGAATAA')\n",
    "prot_seq2 = DNA_prot('ATGAGGTTCTTATCTTCAGGGGGAGGC')"
   ]
  },
  {
   "cell_type": "code",
   "execution_count": 36,
   "id": "295026b2-8f16-4edb-9667-80cb2fb6c6d6",
   "metadata": {},
   "outputs": [
    {
     "data": {
      "text/plain": [
       "'MRFLSSGG'"
      ]
     },
     "execution_count": 36,
     "metadata": {},
     "output_type": "execute_result"
    }
   ],
   "source": [
    "prot_seq2"
   ]
  },
  {
   "cell_type": "code",
   "execution_count": null,
   "id": "85e106b6-4d89-4789-9b3d-2551ff9fe824",
   "metadata": {},
   "outputs": [],
   "source": []
  }
 ],
 "metadata": {
  "kernelspec": {
   "display_name": "Python 3",
   "language": "python",
   "name": "python3"
  },
  "language_info": {
   "codemirror_mode": {
    "name": "ipython",
    "version": 3
   },
   "file_extension": ".py",
   "mimetype": "text/x-python",
   "name": "python",
   "nbconvert_exporter": "python",
   "pygments_lexer": "ipython3",
   "version": "3.8.10"
  }
 },
 "nbformat": 4,
 "nbformat_minor": 5
}
