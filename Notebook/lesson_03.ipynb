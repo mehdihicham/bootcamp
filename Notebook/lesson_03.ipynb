{
 "cells": [
  {
   "cell_type": "code",
   "execution_count": 37,
   "id": "d99b844d-a00f-44d9-83d2-37111337ae85",
   "metadata": {},
   "outputs": [
    {
     "name": "stdout",
     "output_type": "stream",
     "text": [
      "[1, 2, 3, 4]\n"
     ]
    }
   ],
   "source": [
    "my_list_1 = [1,2,3,4]\n",
    "print(my_list_1)"
   ]
  },
  {
   "cell_type": "code",
   "execution_count": 36,
   "id": "cf9eb0fc-6625-4a84-8732-a37a23941015",
   "metadata": {},
   "outputs": [
    {
     "data": {
      "text/plain": [
       "[1, 2, 3, 4]"
      ]
     },
     "execution_count": 36,
     "metadata": {},
     "output_type": "execute_result"
    }
   ],
   "source": [
    "my_list_1"
   ]
  },
  {
   "cell_type": "code",
   "execution_count": 38,
   "id": "15ff2c4e-d3e9-4680-b355-57ab291c8e24",
   "metadata": {},
   "outputs": [],
   "source": [
    "my_list_2 = [\n",
    "    1,\n",
    "    2.4,\n",
    "    'a string',\n",
    "    ['a string in another list',5]\n",
    "]"
   ]
  },
  {
   "cell_type": "code",
   "execution_count": 39,
   "id": "89ade801-d7fa-446f-b015-371be1cc3d2f",
   "metadata": {},
   "outputs": [
    {
     "data": {
      "text/plain": [
       "[1, 2.4, 'a string', ['a string in another list', 5]]"
      ]
     },
     "execution_count": 39,
     "metadata": {},
     "output_type": "execute_result"
    }
   ],
   "source": [
    "my_list_2"
   ]
  },
  {
   "cell_type": "code",
   "execution_count": 44,
   "id": "b87ddb37-7aa7-44d9-b4db-e78fb1169b86",
   "metadata": {},
   "outputs": [
    {
     "data": {
      "text/plain": [
       "True"
      ]
     },
     "execution_count": 44,
     "metadata": {},
     "output_type": "execute_result"
    }
   ],
   "source": [
    "1 in my_list_1 and not 0 in my_list_2"
   ]
  },
  {
   "cell_type": "code",
   "execution_count": 49,
   "id": "0bed3785-21d6-4f9a-a390-27fbdf16e165",
   "metadata": {},
   "outputs": [
    {
     "data": {
      "text/plain": [
       "False"
      ]
     },
     "execution_count": 49,
     "metadata": {},
     "output_type": "execute_result"
    }
   ],
   "source": [
    "5 in my_list_2"
   ]
  },
  {
   "cell_type": "code",
   "execution_count": 50,
   "id": "b6a6f86d-ea12-4472-a56d-814158308aa1",
   "metadata": {},
   "outputs": [],
   "source": [
    "my_list_2.append(my_list_1)"
   ]
  },
  {
   "cell_type": "code",
   "execution_count": 51,
   "id": "216d3527-35cf-4a1e-a16e-d139085999b9",
   "metadata": {},
   "outputs": [
    {
     "data": {
      "text/plain": [
       "[1, 2.4, 'a string', ['a string in another list', 5], [1, 2, 3, 4]]"
      ]
     },
     "execution_count": 51,
     "metadata": {},
     "output_type": "execute_result"
    }
   ],
   "source": [
    "my_list_2"
   ]
  },
  {
   "cell_type": "code",
   "execution_count": 3,
   "id": "8de18518-756d-478c-ae9b-e5e50792f7b2",
   "metadata": {},
   "outputs": [],
   "source": [
    "my_tuple = 7,8"
   ]
  },
  {
   "cell_type": "code",
   "execution_count": 4,
   "id": "6a2285cc-7a0b-49fb-a0f2-8d093cc2db1e",
   "metadata": {},
   "outputs": [
    {
     "data": {
      "text/plain": [
       "(7, 8)"
      ]
     },
     "execution_count": 4,
     "metadata": {},
     "output_type": "execute_result"
    }
   ],
   "source": [
    "my_tuple"
   ]
  },
  {
   "cell_type": "code",
   "execution_count": null,
   "id": "7a9300fd-ff1d-410a-8a5b-be8740e0c6e3",
   "metadata": {},
   "outputs": [],
   "source": [
    "type(my_tuple)"
   ]
  }
 ],
 "metadata": {
  "kernelspec": {
   "display_name": "Python 3",
   "language": "python",
   "name": "python3"
  },
  "language_info": {
   "codemirror_mode": {
    "name": "ipython",
    "version": 3
   },
   "file_extension": ".py",
   "mimetype": "text/x-python",
   "name": "python",
   "nbconvert_exporter": "python",
   "pygments_lexer": "ipython3",
   "version": "3.8.10"
  },
  "toc-autonumbering": true
 },
 "nbformat": 4,
 "nbformat_minor": 5
}
