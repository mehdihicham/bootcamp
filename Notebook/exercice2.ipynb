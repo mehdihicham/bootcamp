{
 "cells": [
  {
   "cell_type": "markdown",
   "id": "59605a96-5a00-4329-8e6c-270c3f4c80d2",
   "metadata": {},
   "source": [
    "# Exercice 2\n",
    "\n",
    "## Exercice 2.1 Using string methods\n"
   ]
  },
  {
   "cell_type": "code",
   "execution_count": 1,
   "id": "3b7306da-1d67-42d8-b1e3-0d8e33707dc6",
   "metadata": {},
   "outputs": [],
   "source": [
    "#changed a bit to implement wobble\n",
    "def complement_base(base,material =\"DNA\"):\n",
    "    \"\"\"Returns the Watson-Crick complement of a base.\"\"\"\n",
    "    if material == \"DNA\":\n",
    "        if base in 'Aa':\n",
    "            return 'T'\n",
    "        elif base in 'Tt':\n",
    "            return 'A'\n",
    "        elif base in 'Gg':\n",
    "            return 'C'\n",
    "        else:\n",
    "            return 'G'\n",
    "        \n",
    "        \n",
    "    elif material == \"RNA\":\n",
    "        if base in 'Aa':\n",
    "            return 'U'\n",
    "        elif base in 'Tt':\n",
    "            return 'A'\n",
    "        elif base in 'Gg':\n",
    "            return 'C'\n",
    "        else:\n",
    "            return 'G'\n",
    "    elif material == \"RNA\":\n",
    "        if base in 'Aa':\n",
    "            return 'U'\n",
    "        elif base in 'Tt':\n",
    "            return 'A'\n",
    "        elif base in 'Gg':\n",
    "            return 'C'\n",
    "        else:\n",
    "            return 'G'\n",
    "    \n",
    "   \n",
    "    \n",
    "\n",
    "\n",
    "def reverse_complement(seq,material= \"DNA\"):\n",
    "    \"\"\"Compute reverse complement of a sequence.\"\"\"\n",
    "    # Initialize reverse complement\n",
    "    rev_seq = ''\n",
    "\n",
    "    # Loop through and populate list with reverse complement\n",
    "    for base in seq[::-1]:\n",
    "        rev_seq += complement_base(base,material =material)\n",
    "\n",
    "    return rev_seq\n",
    "    "
   ]
  },
  {
   "cell_type": "code",
   "execution_count": 2,
   "id": "e0da1e9f-015a-48cc-9324-30b8a727b4b5",
   "metadata": {},
   "outputs": [
    {
     "name": "stdout",
     "output_type": "stream",
     "text": [
      "CACTCGCACTCGACGAT\n"
     ]
    }
   ],
   "source": [
    "seq = \"ATCGTCGAGTGCGAGTG\"\n",
    "rev_seq =reverse_complement(seq)\n",
    "print(rev_seq)"
   ]
  },
  {
   "cell_type": "code",
   "execution_count": 3,
   "id": "5402dd2a-c022-4c2c-a830-54f0bf2fb8ad",
   "metadata": {},
   "outputs": [],
   "source": [
    "def display_complements(seq):\n",
    "    \"\"\"Print sequence above its reverse complement.\"\"\"\n",
    "    # Compute the reverse complement\n",
    "    rev_comp = reverse_complement(seq)\n",
    "\n",
    "    # Print template\n",
    "    print(seq)\n",
    "\n",
    "    # Print \"base pairs\"\n",
    "    for base in seq:\n",
    "        print('|', end='')\n",
    "\n",
    "    # Print final newline character after base pairs\n",
    "    print()\n",
    "\n",
    "    # Print reverse complement\n",
    "    for base in reversed(rev_comp):\n",
    "        print(base, end='')\n",
    "\n",
    "    # Print final newline character\n",
    "    print()\n"
   ]
  },
  {
   "cell_type": "code",
   "execution_count": 4,
   "id": "34c0e528-5709-4d91-bf39-92d00e581e85",
   "metadata": {},
   "outputs": [
    {
     "name": "stdout",
     "output_type": "stream",
     "text": [
      "ATCGTCGAGTGCGAGTG\n",
      "|||||||||||||||||\n",
      "TAGCAGCTCACGCTCAC\n"
     ]
    }
   ],
   "source": [
    "display_complements(seq)"
   ]
  },
  {
   "cell_type": "code",
   "execution_count": 5,
   "id": "3e966e33-9e41-4717-b7c6-376d0c86c470",
   "metadata": {},
   "outputs": [],
   "source": [
    "def comp_without_loop(seq):\n",
    "    seq = seq.lower()\n",
    "    \n",
    "    seq1 = seq.replace('a','T')\n",
    "    seq2 =seq1.replace('t','A')\n",
    "    seq3 = seq2.replace('c','G')\n",
    "    seq4 = seq3.replace('g','C')\n",
    "    return seq4[::-1]\n",
    "    "
   ]
  },
  {
   "cell_type": "code",
   "execution_count": 6,
   "id": "6693da7f-e679-4737-90a5-9d36d5452060",
   "metadata": {},
   "outputs": [
    {
     "data": {
      "text/plain": [
       "'CACTCGCACTCGACGAT'"
      ]
     },
     "execution_count": 6,
     "metadata": {},
     "output_type": "execute_result"
    }
   ],
   "source": [
    "comp_without_loop(seq)"
   ]
  },
  {
   "cell_type": "code",
   "execution_count": 7,
   "id": "e587abe9-f602-4a75-a714-12d0e468c077",
   "metadata": {},
   "outputs": [],
   "source": [
    "def display_complements2(seq):\n",
    "    \"\"\"Print sequence above its reverse complement.\"\"\"\n",
    "    # Compute the reverse complement\n",
    "    rev_comp = comp_without_loop(seq)\n",
    "\n",
    "    # Print template\n",
    "    print(seq)\n",
    "\n",
    "    # Print \"base pairs\"\n",
    "    for base in seq:\n",
    "        print('|', end='')\n",
    "\n",
    "    # Print final newline character after base pairs\n",
    "    print()\n",
    "\n",
    "    # Print reverse complement\n",
    "    for base in reversed(rev_comp):\n",
    "        print(base, end='')\n",
    "\n",
    "    # Print final newline character\n",
    "    print()\n",
    "\n"
   ]
  },
  {
   "cell_type": "code",
   "execution_count": 8,
   "id": "117fca0c-3606-49f4-bd84-bc0e389b0c31",
   "metadata": {},
   "outputs": [
    {
     "name": "stdout",
     "output_type": "stream",
     "text": [
      "ATCGTCGAGTGCGAGTG\n",
      "|||||||||||||||||\n",
      "TAGCAGCTCACGCTCAC\n"
     ]
    }
   ],
   "source": [
    "display_complements2(seq)"
   ]
  },
  {
   "cell_type": "markdown",
   "id": "8d3dce45-c144-4039-8ff9-ab162454d8f1",
   "metadata": {},
   "source": [
    "## Exercise 2.2: Longest common substring"
   ]
  },
  {
   "cell_type": "code",
   "execution_count": 9,
   "id": "9eaea4ab-03ed-4d93-b1e0-91d0ead45f1f",
   "metadata": {},
   "outputs": [],
   "source": [
    "def substring(seq1,seq2):\n",
    "    shorter, longer = seq1,seq2\n",
    "    max_substring = ''\n",
    "    if len(shorter)>len(longer):\n",
    "        shorter,longer = longer, shorter\n",
    "    for i,_ in enumerate(shorter) : \n",
    "        for k in range(len(shorter)-i+1): #when we are at position i, there is n-i +1 terms, n being the highest position\n",
    "            if shorter[i:i+k] in longer : \n",
    "                temp = shorter[i:i+k]\n",
    "                if len(max_substring) <len(temp):\n",
    "                    max_substring = temp\n",
    "                    \n",
    "    \n",
    "            \n",
    "            \n",
    "            \n",
    "    return max_substring\n",
    "    "
   ]
  },
  {
   "cell_type": "code",
   "execution_count": 10,
   "id": "4652dc8c-2d43-4a18-9a5b-55476ca37025",
   "metadata": {},
   "outputs": [
    {
     "name": "stdout",
     "output_type": "stream",
     "text": [
      "ATGC\n",
      "ATGCC\n",
      "ACGT\n"
     ]
    }
   ],
   "source": [
    "print(substring('ATGC', 'ATGCA'))\n",
    "print(substring('GATGCCATGCA', 'ATGCC'))\n",
    "print(substring('ACGTGGAAAGCCA', 'GTACACACGTTTTGAGAGACAC'))"
   ]
  },
  {
   "cell_type": "markdown",
   "id": "c157d0cf-7a8c-430b-bbab-913521cbd7ed",
   "metadata": {},
   "source": [
    "## RNA secondary structure validator"
   ]
  },
  {
   "cell_type": "code",
   "execution_count": 11,
   "id": "b9ff5b1d-ff34-4cf2-adae-bd75c6347d07",
   "metadata": {},
   "outputs": [],
   "source": [
    "dot1= '(((....)))'\n",
    "dot2 = '(.(....).)'\n",
    "dot3 = '((((..))))'\n"
   ]
  },
  {
   "cell_type": "code",
   "execution_count": 12,
   "id": "e71289ed-6037-4e00-a0d8-54866dbef672",
   "metadata": {},
   "outputs": [],
   "source": [
    "def valid_structure (dot_parens):\n",
    "    \"\"\"Determines whether the structure is valid by making sure all \n",
    "    the open parenthesis are related to the close ones\"\"\"\n",
    "    return dot_parens.count('(') == dot_parens.count(')')\n",
    "    \n",
    "    \n",
    "    "
   ]
  },
  {
   "cell_type": "code",
   "execution_count": 13,
   "id": "d2148b66-1ea7-4da0-a5d0-681e6289ce88",
   "metadata": {},
   "outputs": [
    {
     "data": {
      "text/plain": [
       "True"
      ]
     },
     "execution_count": 13,
     "metadata": {},
     "output_type": "execute_result"
    }
   ],
   "source": [
    "valid_structure(dot1)\n"
   ]
  },
  {
   "cell_type": "code",
   "execution_count": 14,
   "id": "390c966b-7ff6-45bd-9311-adeca1d60c61",
   "metadata": {},
   "outputs": [],
   "source": [
    "def dotparen_to_bp(dot_parens):    \n",
    "    \"\"\"converts the dot-parens notation to a tuple of 2-tuples representing the base pairs.\"\"\"\n",
    "    pattern =list(dot_parens)\n",
    "    op ,cl = [],[]\n",
    "    A=tuple()\n",
    "    T=[]\n",
    "    position = [i for i in range(len(pattern))]\n",
    "    \n",
    "    \n",
    "    if valid_structure(dot_parens)== False:\n",
    "        print (\"the structure is not valid\")\n",
    "      \n",
    "    \n",
    "    for pos,symb in enumerate(pattern): \n",
    "        if symb =='(':\n",
    "            op.append(pos)\n",
    "        elif symb == ')':\n",
    "            cl.append(pos)\n",
    "    cl.reverse()\n",
    "    for i in range(len(cl)):\n",
    "        A = (op[i],cl[i])\n",
    "        T.append(A)\n",
    "    \n",
    "            \n",
    "        \n",
    "        \n",
    "    return tuple(T)"
   ]
  },
  {
   "cell_type": "code",
   "execution_count": 15,
   "id": "43e240a7-edd6-4e81-a986-e27eb94b8b8d",
   "metadata": {},
   "outputs": [
    {
     "name": "stdout",
     "output_type": "stream",
     "text": [
      "((0, 9), (1, 8), (2, 7))\n",
      "((0, 9), (2, 7))\n",
      "((0, 9), (1, 8), (2, 7), (3, 6))\n"
     ]
    }
   ],
   "source": [
    "print(dotparen_to_bp(dot1))\n",
    "print(dotparen_to_bp(dot2))\n",
    "print(dotparen_to_bp(dot3))"
   ]
  },
  {
   "cell_type": "markdown",
   "id": "a5c18fe4-be99-4d0f-87cc-8f70cd0f8f02",
   "metadata": {},
   "source": [
    "To satisfy the steric formation of the hairpin, we need to validate whether the number of dots in the last base pair is >3 \n",
    "    "
   ]
  },
  {
   "cell_type": "code",
   "execution_count": 16,
   "id": "28ce6ed2-13a1-4d74-9611-ed74867510ac",
   "metadata": {},
   "outputs": [],
   "source": [
    "def steric(base_pair):\n",
    "    min_length =3\n",
    "    test = list(base_pair[-1])\n",
    "    hairpin_length = test[-1]-test[0] -1\n",
    "    return hairpin_length > min_length"
   ]
  },
  {
   "cell_type": "code",
   "execution_count": 17,
   "id": "b9b05758-52dd-49a1-b521-b1f2102c354a",
   "metadata": {},
   "outputs": [
    {
     "name": "stdout",
     "output_type": "stream",
     "text": [
      "True\n",
      "True\n",
      "False\n"
     ]
    }
   ],
   "source": [
    "T1 = steric (dotparen_to_bp(dot1))\n",
    "print(T1)\n",
    "T2 = steric (dotparen_to_bp(dot2))\n",
    "print(T2)\n",
    "T3 = steric (dotparen_to_bp(dot3))\n",
    "print(T3)\n"
   ]
  },
  {
   "cell_type": "code",
   "execution_count": null,
   "id": "dbc06705-b947-467e-bcff-844d456ee911",
   "metadata": {},
   "outputs": [],
   "source": []
  },
  {
   "cell_type": "code",
   "execution_count": 18,
   "id": "b8932988-f9bb-4fef-874d-7f7f90205b0a",
   "metadata": {},
   "outputs": [],
   "source": [
    "def correspondance_seq_struc(seq,sec_struc,wobble =True): #could have directly put bp to be more easy to implement in validator\n",
    "    pairs = dotparen_to_bp(sec_struc) \n",
    "    for base_pair in pairs:\n",
    "        \n",
    "        base1 = base_pair[0]\n",
    "        base2 = base_pair[-1]\n",
    "        base1 = seq[base1]\n",
    "        base2 = seq[base2]\n",
    "        if wobble == False : \n",
    "            if complement_base(base1,material=\"RNA\")!= base2:\n",
    "               \n",
    "                return False\n",
    "        \n",
    "            \n",
    "        if wobble == True:\n",
    "            \n",
    "            if base1 =='G':\n",
    "                if base2 !=\"C\" and base2!= \"U\":\n",
    "                    print('T')\n",
    "                    return False\n",
    "            elif base2 =='G': \n",
    "                if base1 !='C' and base1 !='U':\n",
    "                    \n",
    "                    return False\n",
    "                    \n",
    "            elif complement_base(base1,material=\"RNA\")!= base2:\n",
    "               \n",
    "                return False\n",
    "            \n",
    "        \n",
    "        \n",
    "    \n",
    "    return True\n",
    "        "
   ]
  },
  {
   "cell_type": "code",
   "execution_count": 19,
   "id": "816de728-9aad-4199-9bdc-cd36b470bfe1",
   "metadata": {},
   "outputs": [
    {
     "name": "stdout",
     "output_type": "stream",
     "text": [
      "True\n",
      "True\n"
     ]
    }
   ],
   "source": [
    "print(correspondance_seq_struc('GCAUCUAUGC', '(((....)))'))\n",
    "print(correspondance_seq_struc('GCGUCUAUGC', '(((....)))')) #G instead of A in codon 3"
   ]
  },
  {
   "cell_type": "code",
   "execution_count": 20,
   "id": "6f3d0fae-b266-4571-931e-c971b2c60ffa",
   "metadata": {},
   "outputs": [],
   "source": [
    "def rna_ss_validator(seq, sec_struc, wobble =True ): \n",
    "    #first we need to verify that the structure is possible\n",
    "    bp = dotparen_to_bp(sec_struc)\n",
    "    if steric(bp) :\n",
    "        print('OK')\n",
    "        if correspondance_seq_struc(seq,sec_struc,wobble):\n",
    "            return True\n",
    "    return False\n",
    "        \n",
    "    #first we need to check if the structure is compatible with the sequence\n",
    "    "
   ]
  },
  {
   "cell_type": "code",
   "execution_count": 21,
   "id": "b96a9a40-e7c5-4daa-847e-8bac0707d75d",
   "metadata": {},
   "outputs": [
    {
     "name": "stdout",
     "output_type": "stream",
     "text": [
      "OK\n",
      "True\n",
      "OK\n",
      "True\n",
      "OK\n",
      "True\n"
     ]
    }
   ],
   "source": [
    "print(rna_ss_validator('GCAUCUAUGC', '(((....)))'))\n",
    "print(rna_ss_validator('GCAUCUAUGU', '(((....)))'))\n",
    "print(rna_ss_validator('GCAUCUAUGU', '(.(....).)'))"
   ]
  },
  {
   "cell_type": "code",
   "execution_count": 22,
   "id": "d01a9c3c-6d0f-478f-96e3-4c4d4c2d40d2",
   "metadata": {},
   "outputs": [
    {
     "name": "stdout",
     "output_type": "stream",
     "text": [
      "OK\n",
      "False\n",
      "OK\n",
      "False\n",
      "OK\n",
      "T\n",
      "False\n",
      "False\n"
     ]
    }
   ],
   "source": [
    "print(rna_ss_validator('GCAUCUACGC', '(((....)))'))\n",
    "print(rna_ss_validator('GCAUCUAUGU', '(((....)))', wobble=False))\n",
    "print(rna_ss_validator('GCAUCUAUGU', '(.(....)).'))\n",
    "print(rna_ss_validator('GCCCUUGGCA', '(.((..))).'))"
   ]
  },
  {
   "cell_type": "code",
   "execution_count": 31,
   "id": "a7ac86cc-0a36-4a23-83f1-669f0738d0c8",
   "metadata": {},
   "outputs": [],
   "source": [
    "def hairpin_check(bps):\n",
    "    \"\"\"Check to make sure no hairpins are too short.\"\"\"\n",
    "    for bp in bps:\n",
    "        if bp[1] - bp[0] < 4:\n",
    "            print('A hairpin is too short.')\n",
    "            return False\n",
    "\n",
    "    # Everything checks out\n",
    "    return True"
   ]
  },
  {
   "cell_type": "code",
   "execution_count": 33,
   "id": "fa5037fc-5e3e-4b86-b34c-80a9966961f3",
   "metadata": {},
   "outputs": [
    {
     "data": {
      "text/plain": [
       "True"
      ]
     },
     "execution_count": 33,
     "metadata": {},
     "output_type": "execute_result"
    }
   ],
   "source": [
    "hairpin_check(dotparen_to_bp('(((...)))'))"
   ]
  },
  {
   "cell_type": "code",
   "execution_count": null,
   "id": "d2ff1047-8f46-4616-a6c3-1e80c069f1b7",
   "metadata": {},
   "outputs": [],
   "source": []
  },
  {
   "cell_type": "code",
   "execution_count": 34,
   "id": "a5d14b0c-866a-49c3-a0d5-32f799103c01",
   "metadata": {},
   "outputs": [],
   "source": []
  },
  {
   "cell_type": "code",
   "execution_count": 42,
   "id": "a618ee40-1244-45a0-a59c-0185b6248ffd",
   "metadata": {},
   "outputs": [],
   "source": [
    "with open('data/1OLG.pdb', 'r') as f:\n",
    "    f_str = f.read()"
   ]
  },
  {
   "cell_type": "code",
   "execution_count": 44,
   "id": "4586718f-a3f6-4924-9da0-55d8b288c3fa",
   "metadata": {},
   "outputs": [
    {
     "data": {
      "text/plain": [
       "'HEADER    ANTI-ONCOGENE                           13-JUN-94   1OLG              \\nTITLE     HIGH-RESOLUTION SOLUTION STRUCTURE OF THE OLIGOMERIZATION             \\nTITLE    2 DOMAIN OF P53 BY MULTI-DIMENSIONAL NMR                               \\nCOMPND    MOL_ID: 1;                                                            \\nCOMPND   2 MOLECULE: TUMOR SUPPRESSOR P53 (OLIGOMERIZATION DOMAIN);             \\nCOMPND   3 CHAIN: A, B, C, D;                                                   \\nCOMPND   4 ENGINEERED: YES                                                      \\nSOURCE    MOL_ID: 1;                                                            \\nSOURCE   2 ORGANISM_SCIENTIFIC: HOMO SAPIENS;                                   \\nSOURCE   3 ORGANISM_COMMON: HUMAN;                                              \\nSOURCE   4 ORGANISM_TAXID: 9606                                                 \\nKEYWDS    ANTI-ONCOGENE                                                         \\nEXPDTA    SOLUTION NMR      '"
      ]
     },
     "execution_count": 44,
     "metadata": {},
     "output_type": "execute_result"
    }
   ],
   "source": [
    "f_str[:1000]"
   ]
  },
  {
   "cell_type": "code",
   "execution_count": 52,
   "id": "d4bfcb5f-092e-4fc8-b4b5-835a7d523ba8",
   "metadata": {},
   "outputs": [],
   "source": [
    "with open('data/1OLG.pdb', 'r') as f:\n",
    "    f_list = f.readlines()"
   ]
  },
  {
   "cell_type": "code",
   "execution_count": 53,
   "id": "5dc468c0-cd22-4874-8b9f-b9ec4ebc1fbb",
   "metadata": {},
   "outputs": [
    {
     "data": {
      "text/plain": [
       "['HEADER    ANTI-ONCOGENE                           13-JUN-94   1OLG              \\n',\n",
       " 'TITLE     HIGH-RESOLUTION SOLUTION STRUCTURE OF THE OLIGOMERIZATION             \\n',\n",
       " 'TITLE    2 DOMAIN OF P53 BY MULTI-DIMENSIONAL NMR                               \\n',\n",
       " 'COMPND    MOL_ID: 1;                                                            \\n',\n",
       " 'COMPND   2 MOLECULE: TUMOR SUPPRESSOR P53 (OLIGOMERIZATION DOMAIN);             \\n',\n",
       " 'COMPND   3 CHAIN: A, B, C, D;                                                   \\n',\n",
       " 'COMPND   4 ENGINEERED: YES                                                      \\n',\n",
       " 'SOURCE    MOL_ID: 1;                                                            \\n',\n",
       " 'SOURCE   2 ORGANISM_SCIENTIFIC: HOMO SAPIENS;                                   \\n',\n",
       " 'SOURCE   3 ORGANISM_COMMON: HUMAN;                                              \\n']"
      ]
     },
     "execution_count": 53,
     "metadata": {},
     "output_type": "execute_result"
    }
   ],
   "source": [
    "f_list[:10]"
   ]
  },
  {
   "cell_type": "code",
   "execution_count": 56,
   "id": "4f7a15bb-e5b3-4d48-aa2b-b8b9e1dd248d",
   "metadata": {},
   "outputs": [
    {
     "name": "stdout",
     "output_type": "stream",
     "text": [
      "HEADER    ANTI-ONCOGENE                           13-JUN-94   1OLG              \n",
      "TITLE     HIGH-RESOLUTION SOLUTION STRUCTURE OF THE OLIGOMERIZATION             \n",
      "TITLE    2 DOMAIN OF P53 BY MULTI-DIMENSIONAL NMR                               \n",
      "COMPND    MOL_ID: 1;                                                            \n",
      "COMPND   2 MOLECULE: TUMOR SUPPRESSOR P53 (OLIGOMERIZATION DOMAIN);             \n",
      "COMPND   3 CHAIN: A, B, C, D;                                                   \n",
      "COMPND   4 ENGINEERED: YES                                                      \n",
      "SOURCE    MOL_ID: 1;                                                            \n",
      "SOURCE   2 ORGANISM_SCIENTIFIC: HOMO SAPIENS;                                   \n",
      "SOURCE   3 ORGANISM_COMMON: HUMAN;                                              \n"
     ]
    }
   ],
   "source": [
    "!head data/1OLG.pdb"
   ]
  },
  {
   "cell_type": "code",
   "execution_count": 61,
   "id": "c98888e4-d752-4aa3-a572-13011ab69100",
   "metadata": {},
   "outputs": [
    {
     "name": "stdout",
     "output_type": "stream",
     "text": [
      "HEADER    ANTI-ONCOGENE                           13-JUN-94   1OLG\n",
      "TITLE     HIGH-RESOLUTION SOLUTION STRUCTURE OF THE OLIGOMERIZATION\n"
     ]
    }
   ],
   "source": [
    "print(f_list[0].rstrip())\n",
    "print(f_list[1].rstrip())"
   ]
  },
  {
   "cell_type": "code",
   "execution_count": null,
   "id": "395b111d-0d1b-4bed-a83e-459444603f4a",
   "metadata": {},
   "outputs": [],
   "source": []
  }
 ],
 "metadata": {
  "kernelspec": {
   "display_name": "Python 3",
   "language": "python",
   "name": "python3"
  },
  "language_info": {
   "codemirror_mode": {
    "name": "ipython",
    "version": 3
   },
   "file_extension": ".py",
   "mimetype": "text/x-python",
   "name": "python",
   "nbconvert_exporter": "python",
   "pygments_lexer": "ipython3",
   "version": "3.8.10"
  }
 },
 "nbformat": 4,
 "nbformat_minor": 5
}
