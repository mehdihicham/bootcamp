{
 "cells": [
  {
   "cell_type": "code",
   "execution_count": 1,
   "id": "e6a340a4-1e5d-42fd-91b2-7ce4d94a28fa",
   "metadata": {},
   "outputs": [
    {
     "name": "stdout",
     "output_type": "stream",
     "text": [
      "Hello, world\n"
     ]
    }
   ],
   "source": [
    "print(\"Hello, world\")"
   ]
  },
  {
   "cell_type": "markdown",
   "id": "4e4d55e9-7479-451d-99a0-dbe82cd95b09",
   "metadata": {},
   "source": [
    "# This is a heading"
   ]
  },
  {
   "cell_type": "markdown",
   "id": "f100845e-03bd-4373-956d-d83294f23274",
   "metadata": {},
   "source": [
    "**bold text**"
   ]
  },
  {
   "cell_type": "markdown",
   "id": "e5aa1a3e-57f4-43c9-a91a-b684a359e59b",
   "metadata": {},
   "source": [
    "*italicized*"
   ]
  },
  {
   "cell_type": "markdown",
   "id": "db5bf4c9-03c0-416f-a33f-52b18aa1e47e",
   "metadata": {},
   "source": [
    "$E=mc^2$"
   ]
  },
  {
   "cell_type": "code",
   "execution_count": 2,
   "id": "63e3b681-f914-438a-b5c2-02c31809e891",
   "metadata": {},
   "outputs": [
    {
     "data": {
      "text/plain": [
       "15"
      ]
     },
     "execution_count": 2,
     "metadata": {},
     "output_type": "execute_result"
    }
   ],
   "source": [
    "7+8"
   ]
  },
  {
   "cell_type": "code",
   "execution_count": 3,
   "id": "63cd8941-4f5a-407a-ad93-7e711c95a3b6",
   "metadata": {},
   "outputs": [
    {
     "data": {
      "text/plain": [
       "4"
      ]
     },
     "execution_count": 3,
     "metadata": {},
     "output_type": "execute_result"
    }
   ],
   "source": [
    "#Only the last output\n",
    "7+8\n",
    "1+3"
   ]
  },
  {
   "cell_type": "code",
   "execution_count": null,
   "id": "ead50deb-5765-4de8-be5f-a137d5f15fce",
   "metadata": {},
   "outputs": [],
   "source": []
  }
 ],
 "metadata": {
  "kernelspec": {
   "display_name": "Python 3",
   "language": "python",
   "name": "python3"
  },
  "language_info": {
   "codemirror_mode": {
    "name": "ipython",
    "version": 3
   },
   "file_extension": ".py",
   "mimetype": "text/x-python",
   "name": "python",
   "nbconvert_exporter": "python",
   "pygments_lexer": "ipython3",
   "version": "3.8.10"
  }
 },
 "nbformat": 4,
 "nbformat_minor": 5
}
