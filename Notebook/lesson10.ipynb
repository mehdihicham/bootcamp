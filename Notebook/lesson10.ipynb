{
 "cells": [
  {
   "cell_type": "code",
   "execution_count": 1,
   "id": "b034ffa0-aca5-4320-a97b-39f96222343c",
   "metadata": {},
   "outputs": [
    {
     "ename": "NameError",
     "evalue": "name 'f_list' is not defined",
     "output_type": "error",
     "traceback": [
      "\u001b[0;31m---------------------------------------------------------------------------\u001b[0m",
      "\u001b[0;31mNameError\u001b[0m                                 Traceback (most recent call last)",
      "\u001b[0;32m<ipython-input-1-a14b6bc19a2d>\u001b[0m in \u001b[0;36m<module>\u001b[0;34m\u001b[0m\n\u001b[0;32m----> 1\u001b[0;31m \u001b[0mf_list\u001b[0m\u001b[0;34m[\u001b[0m\u001b[0;36m0\u001b[0m\u001b[0;34m]\u001b[0m\u001b[0;34m.\u001b[0m\u001b[0mrstrip\u001b[0m\u001b[0;34m(\u001b[0m\u001b[0;34m)\u001b[0m\u001b[0;34m\u001b[0m\u001b[0;34m\u001b[0m\u001b[0m\n\u001b[0m",
      "\u001b[0;31mNameError\u001b[0m: name 'f_list' is not defined"
     ]
    }
   ],
   "source": [
    "f_list[0].rstrip()"
   ]
  },
  {
   "cell_type": "code",
   "execution_count": 2,
   "id": "9cfff7e7-b9b2-4130-94c3-0a2c33ea3c64",
   "metadata": {},
   "outputs": [],
   "source": [
    "import os\n",
    "import glob"
   ]
  },
  {
   "cell_type": "code",
   "execution_count": 3,
   "id": "53fdf9d6-1301-4125-9e8f-5915b427493b",
   "metadata": {},
   "outputs": [],
   "source": [
    "with open('data/1OLG.pdb', 'r') as f:\n",
    "    f_str = f.read()"
   ]
  },
  {
   "cell_type": "code",
   "execution_count": 4,
   "id": "53668a4d-92aa-476d-bc79-518dd5017472",
   "metadata": {},
   "outputs": [
    {
     "data": {
      "text/plain": [
       "'HEADER    ANTI-ONCOGENE                           13-JUN-94   1OLG              \\nTITLE     HIGH-RESOLUTION SOLUTION STRUCTURE OF THE OLIGOMERIZATION             \\nTITLE    2 DOMAIN OF P53 BY MULTI-DIMENSIONAL NMR                               \\nCOMPND    MOL_ID: 1;                                                            \\nCOMPND   2 MOLECULE: TUMOR SUPPRESSOR P53 (OLIGOMERIZATION DOMAIN);             \\nCOMPND   3 CHAIN: A, B, C, D;                                                   \\nCOMPND   4 ENGINEERED: YES                                                      \\nSOURCE    MOL_ID: 1;                                                            \\nSOURCE   2 ORGANISM_SCIENTIFIC: HOMO SAPIENS;                                   \\nSOURCE   3 ORGANISM_COMMON: HUMAN;                                              \\nSOURCE   4 ORGANISM_TAXID: 9606                                                 \\nKEYWDS    ANTI-ONCOGENE                                                         \\nEXPDTA    SOLUTION NMR      '"
      ]
     },
     "execution_count": 4,
     "metadata": {},
     "output_type": "execute_result"
    }
   ],
   "source": [
    "f_str[:1000]"
   ]
  },
  {
   "cell_type": "code",
   "execution_count": 5,
   "id": "20944d78-b1a4-4861-819b-a098b19f877d",
   "metadata": {},
   "outputs": [],
   "source": [
    "with open('data/1OLG.pdb', 'r') as f:\n",
    "    f_list = f.readlines()"
   ]
  },
  {
   "cell_type": "code",
   "execution_count": 33,
   "id": "3048d694-aa0d-4c1b-8440-0415296aead2",
   "metadata": {},
   "outputs": [
    {
     "data": {
      "text/plain": [
       "['HEADER    ANTI-ONCOGENE                           13-JUN-94   1OLG              \\n',\n",
       " 'TITLE     HIGH-RESOLUTION SOLUTION STRUCTURE OF THE OLIGOMERIZATION             \\n',\n",
       " 'TITLE    2 DOMAIN OF P53 BY MULTI-DIMENSIONAL NMR                               \\n',\n",
       " 'COMPND    MOL_ID: 1;                                                            \\n',\n",
       " 'COMPND   2 MOLECULE: TUMOR SUPPRESSOR P53 (OLIGOMERIZATION DOMAIN);             \\n',\n",
       " 'COMPND   3 CHAIN: A, B, C, D;                                                   \\n',\n",
       " 'COMPND   4 ENGINEERED: YES                                                      \\n',\n",
       " 'SOURCE    MOL_ID: 1;                                                            \\n',\n",
       " 'SOURCE   2 ORGANISM_SCIENTIFIC: HOMO SAPIENS;                                   \\n',\n",
       " 'SOURCE   3 ORGANISM_COMMON: HUMAN;                                              \\n',\n",
       " 'SOURCE   4 ORGANISM_TAXID: 9606                                                 \\n',\n",
       " 'KEYWDS    ANTI-ONCOGENE                                                         \\n',\n",
       " 'EXPDTA    SOLUTION NMR                                                          \\n',\n",
       " 'AUTHOR    G.M.CLORE,J.G.OMICHINSKI,A.M.GRONENBORN                               \\n',\n",
       " 'REVDAT   4   24-FEB-09 1OLG    1       VERSN                                    \\n',\n",
       " 'REVDAT   3   01-APR-03 1OLG    1       JRNL                                     \\n',\n",
       " 'REVDAT   2   08-MAR-95 1OLG    1       REMARK                                   \\n',\n",
       " 'REVDAT   1   26-JAN-95 1OLG    0                                                \\n',\n",
       " 'JRNL        AUTH   G.M.CLORE,J.G.OMICHINSKI,K.SAKAGUCHI,N.ZAMBRANO,             \\n',\n",
       " 'JRNL        AUTH 2 H.SAKAMOTO,E.APPELLA,A.M.GRONENBORN                          \\n',\n",
       " 'JRNL        TITL   HIGH-RESOLUTION STRUCTURE OF THE OLIGOMERIZATION             \\n',\n",
       " 'JRNL        TITL 2 DOMAIN OF P53 BY MULTIDIMENSIONAL NMR.                       \\n',\n",
       " 'JRNL        REF    SCIENCE                       V. 265   386 1994              \\n',\n",
       " 'JRNL        REFN                   ISSN 0036-8075                               \\n',\n",
       " 'JRNL        PMID   8023159                                                      \\n',\n",
       " 'REMARK   1                                                                      \\n',\n",
       " 'REMARK   2                                                                      \\n',\n",
       " 'REMARK   2 RESOLUTION. NOT APPLICABLE.                                          \\n',\n",
       " 'REMARK   3                                                                      \\n',\n",
       " 'REMARK   3 REFINEMENT.                                                          \\n',\n",
       " 'REMARK   3   PROGRAM     : NULL                                                 \\n',\n",
       " 'REMARK   3   AUTHORS     : NULL                                                 \\n',\n",
       " 'REMARK   3                                                                      \\n',\n",
       " 'REMARK   3  OTHER REFINEMENT REMARKS:                                           \\n',\n",
       " 'REMARK   3  THE 3D STRUCTURE OF THE OLIGOMERIZATION DOMAIN (RESIDUES            \\n',\n",
       " 'REMARK   3  319 - 360) OF P53 BY MULTI-DIMENSIONAL HETERONUCLEAR-EDITED         \\n',\n",
       " 'REMARK   3  AND -FILTERED NMR IS BASED ON 3824 EXPERIMENTAL RESTRAINTS          \\n',\n",
       " 'REMARK   3  COMPRISING THE FOLLOWING INTRA- AND INTER-SUBUNIT                   \\n',\n",
       " 'REMARK   3  RESTRAINTS:  (A) INTRASUBUNIT:  840 SEQUENTIAL (|I-J|=1),           \\n',\n",
       " 'REMARK   3  744 SHORT RANGE (1 < |I-J| >=5) AND 72 LONG RANGE                   \\n',\n",
       " 'REMARK   3  (|I-J| >5) INTERRESIDUES AND INTRARESIDUE APPROXIMATE               \\n',\n",
       " 'REMARK   3  INTERPROTON DISTANCE RESTRAINTS, 136 DISTANCE RESTRAINTS            \\n',\n",
       " 'REMARK   3  FOR 68 HYDROGEN BONDS, 268 TORSION ANGLE (144 PHI, 104 CHI1         \\n',\n",
       " 'REMARK   3  AND 20 CHI2) RESTRAINTS, AND 144 THREE-BOND HN-HA COUPLING          \\n',\n",
       " 'REMARK   3  CONSTANT RESTRAINTS.  (B) INTERSUBUNIT:  72 A-B/C-D,                \\n',\n",
       " 'REMARK   3  758 A-C/B-D, 10 A-D/B-C APPROXIMATE INTERPROTON DISTANCE            \\n',\n",
       " 'REMARK   3  RESTRAINTS, AND 24 DISTANCE RESTRAINTS FOR 12 HYDROGEN              \\n',\n",
       " 'REMARK   3  BONDS INVOLVING THE A-C/B-D SUBUNITS.  IN ADDITION, THERE           \\n',\n",
       " 'REMARK   3  ARE A TOTAL OF 38 CALPHA AND 38 CB CHEMICAL SHIFT                   \\n',\n",
       " 'REMARK   3  RESTRAINTS PER SUBUNIT THAT HAVE BEEN INCORPORATED                  \\n',\n",
       " 'REMARK   3  INTO THE REFINEMENT [J. KUSZWESKI, J. QIN, A.M. GRONENBORN          \\n',\n",
       " 'REMARK   3  AND G.M. CLORE, J. MAGN RESON. SER IN PRESS (1994)]                 \\n',\n",
       " 'REMARK   3                                                                      \\n',\n",
       " 'REMARK   3  THE STRUCTURES ARE CALCULATED USING THE HYBRID METRIC               \\n',\n",
       " 'REMARK   3  MATRIX DISTANCE GEOMETRY-DYNAMICAL SIMULATED ANNEALING              \\n',\n",
       " 'REMARK   3  METHOD DESCRIBED BY:  NILGES, M., CLORE, G.M.  AND                  \\n',\n",
       " 'REMARK   3  GRONENBORN, A.M. (1988) FEBS LETT. 29, 317-324.  ALL                \\n',\n",
       " 'REMARK   3  STRUCTURAL STATISTICS ARE GIVEN IN THE JRNL REFERENCE.              \\n',\n",
       " 'REMARK   3                                                                      \\n',\n",
       " 'REMARK   3  THE STRUCTURE PRESENTED IN THIS ENTRY IS THE RESTRAINED             \\n',\n",
       " 'REMARK   3  MINIMIZED AVERAGE STRUCTURE (SA)R.  THIS IS OBTAINED BY             \\n',\n",
       " 'REMARK   3  FIRST AVERAGING THE COORDINATES OF THE INDIVIDUAL 35                \\n',\n",
       " 'REMARK   3  DYNAMICAL SIMULATED ANNEALING SA STRUCTURES BEST FITTED TO          \\n',\n",
       " 'REMARK   3  RESIDUES 324 - 356 OF ALL FOUR SUBUNITS AND SUBJECTING THE          \\n',\n",
       " 'REMARK   3  RESULTING COORDINATES TO RESTRAINED MINIMIZATION.  THE              \\n',\n",
       " 'REMARK   3  QUANTITY PRESENTED IN COLUMNS 61 - 66 IN THIS SET OF                \\n',\n",
       " 'REMARK   3  COORDINATES (THE B-FACTOR FIELD IN X-RAY STRUCTURES) GIVES          \\n',\n",
       " 'REMARK   3  THE AVERAGE RMS DIFFERENCE BETWEEN THE INDIVIDUAL SA                \\n',\n",
       " 'REMARK   3  STRUCTURES AND THE MEAN STRUCTURE.  THE NUMBERS IN COLUMNS          \\n',\n",
       " 'REMARK   3  61 - 66 OF THE INDIVIDUAL STRUCTURES HAVE NO MEANING.  NOTE         \\n',\n",
       " 'REMARK   3  THAT RESIDUES 319 - 323 AT THE N-TERMINUS AND RESIDUES 357          \\n',\n",
       " 'REMARK   3  - 360 AT THE C-TERMINUS ARE DISORDERED.  THE SET OF 35              \\n',\n",
       " 'REMARK   3  STRUCTURES IS PRESENTED IN PROTEIN DATA BANK ENTRY 1OLH.            \\n',\n",
       " 'REMARK   4                                                                      \\n',\n",
       " 'REMARK   4 1OLG COMPLIES WITH FORMAT V. 3.15, 01-DEC-08                         \\n',\n",
       " 'REMARK 100                                                                      \\n',\n",
       " 'REMARK 100 THIS ENTRY HAS BEEN PROCESSED BY BNL.                                \\n',\n",
       " 'REMARK 210                                                                      \\n',\n",
       " 'REMARK 210 EXPERIMENTAL DETAILS                                                 \\n',\n",
       " 'REMARK 210  EXPERIMENT TYPE                : NMR                                \\n',\n",
       " 'REMARK 210  TEMPERATURE           (KELVIN) : NULL                               \\n',\n",
       " 'REMARK 210  PH                             : NULL                               \\n',\n",
       " 'REMARK 210  IONIC STRENGTH                 : NULL                               \\n',\n",
       " 'REMARK 210  PRESSURE                       : NULL                               \\n',\n",
       " 'REMARK 210  SAMPLE CONTENTS                : NULL                               \\n',\n",
       " 'REMARK 210                                                                      \\n',\n",
       " 'REMARK 210  NMR EXPERIMENTS CONDUCTED      : NULL                               \\n',\n",
       " 'REMARK 210  SPECTROMETER FIELD STRENGTH    : NULL                               \\n',\n",
       " 'REMARK 210  SPECTROMETER MODEL             : NULL                               \\n',\n",
       " 'REMARK 210  SPECTROMETER MANUFACTURER      : NULL                               \\n',\n",
       " 'REMARK 210                                                                      \\n',\n",
       " 'REMARK 210  STRUCTURE DETERMINATION.                                            \\n',\n",
       " 'REMARK 210   SOFTWARE USED                 : NULL                               \\n',\n",
       " 'REMARK 210   METHOD USED                   : NULL                               \\n',\n",
       " 'REMARK 210                                                                      \\n',\n",
       " 'REMARK 210 CONFORMERS, NUMBER CALCULATED   : NULL                               \\n',\n",
       " 'REMARK 210 CONFORMERS, NUMBER SUBMITTED    : 1                                  \\n',\n",
       " 'REMARK 210 CONFORMERS, SELECTION CRITERIA  : NULL                               \\n',\n",
       " 'REMARK 210                                                                      \\n',\n",
       " 'REMARK 210 BEST REPRESENTATIVE CONFORMER IN THIS ENSEMBLE : NULL                \\n',\n",
       " 'REMARK 210                                                                      \\n',\n",
       " 'REMARK 210 REMARK: NULL                                                         \\n',\n",
       " 'REMARK 215                                                                      \\n',\n",
       " 'REMARK 215 NMR STUDY                                                            \\n',\n",
       " 'REMARK 215 THE COORDINATES IN THIS ENTRY WERE GENERATED FROM SOLUTION           \\n',\n",
       " 'REMARK 215 NMR DATA.  PROTEIN DATA BANK CONVENTIONS REQUIRE THAT                \\n',\n",
       " 'REMARK 215 CRYST1 AND SCALE RECORDS BE INCLUDED, BUT THE VALUES ON              \\n',\n",
       " 'REMARK 215 THESE RECORDS ARE MEANINGLESS.                                       \\n',\n",
       " 'REMARK 500                                                                      \\n',\n",
       " 'REMARK 500 GEOMETRY AND STEREOCHEMISTRY                                         \\n',\n",
       " 'REMARK 500 SUBTOPIC: TORSION ANGLES                                             \\n',\n",
       " 'REMARK 500                                                                      \\n',\n",
       " 'REMARK 500 TORSION ANGLES OUTSIDE THE EXPECTED RAMACHANDRAN REGIONS:            \\n',\n",
       " 'REMARK 500 (M=MODEL NUMBER; RES=RESIDUE NAME; C=CHAIN IDENTIFIER;               \\n',\n",
       " 'REMARK 500 SSEQ=SEQUENCE NUMBER; I=INSERTION CODE).                             \\n',\n",
       " 'REMARK 500                                                                      \\n',\n",
       " 'REMARK 500 STANDARD TABLE:                                                      \\n',\n",
       " 'REMARK 500 FORMAT:(10X,I3,1X,A3,1X,A1,I4,A1,4X,F7.2,3X,F7.2)                    \\n',\n",
       " 'REMARK 500                                                                      \\n',\n",
       " 'REMARK 500 EXPECTED VALUES: GJ KLEYWEGT AND TA JONES (1996). PHI/PSI-           \\n',\n",
       " 'REMARK 500 CHOLOGY: RAMACHANDRAN REVISITED. STRUCTURE 4, 1395 - 1400            \\n',\n",
       " 'REMARK 500                                                                      \\n',\n",
       " 'REMARK 500  M RES CSSEQI        PSI       PHI                                   \\n',\n",
       " 'REMARK 500    LYS A 320      -74.36     68.94                                   \\n',\n",
       " 'REMARK 500    LYS A 321      135.74     67.72                                   \\n',\n",
       " 'REMARK 500    GLU A 326     -174.99    -58.70                                   \\n',\n",
       " 'REMARK 500    PHE A 328     -165.33   -112.87                                   \\n',\n",
       " 'REMARK 500    LYS B 320      -74.65     69.83                                   \\n',\n",
       " 'REMARK 500    LYS B 321      135.74     67.89                                   \\n',\n",
       " 'REMARK 500    GLU B 326     -175.08    -59.01                                   \\n',\n",
       " 'REMARK 500    PHE B 328     -165.39   -113.04                                   \\n',\n",
       " 'REMARK 500    LYS C 320      116.35     57.32                                   \\n',\n",
       " 'REMARK 500    LYS C 321     -127.71   -161.07                                   \\n',\n",
       " 'REMARK 500    PRO C 322     -137.97    -40.58                                   \\n',\n",
       " 'REMARK 500    GLU C 326     -173.91    -57.97                                   \\n',\n",
       " 'REMARK 500    PHE C 328     -162.84   -113.14                                   \\n',\n",
       " 'REMARK 500    LYS D 320      -75.43     69.86                                   \\n',\n",
       " 'REMARK 500    LYS D 321      135.67     68.29                                   \\n',\n",
       " 'REMARK 500    GLU D 326     -174.99    -58.62                                   \\n',\n",
       " 'REMARK 500    PHE D 328     -165.46   -112.99                                   \\n',\n",
       " 'REMARK 500                                                                      \\n',\n",
       " 'REMARK 500 REMARK: NULL                                                         \\n',\n",
       " 'REMARK 900                                                                      \\n',\n",
       " 'REMARK 900 RELATED ENTRIES                                                      \\n',\n",
       " 'REMARK 900 RELATED ID: 1OLH   RELATED DB: PDB                                   \\n',\n",
       " 'DBREF  1OLG A  319   360  UNP    P04637   P53_HUMAN      319    360             \\n',\n",
       " 'DBREF  1OLG B  319   360  UNP    P04637   P53_HUMAN      319    360             \\n',\n",
       " 'DBREF  1OLG C  319   360  UNP    P04637   P53_HUMAN      319    360             \\n',\n",
       " 'DBREF  1OLG D  319   360  UNP    P04637   P53_HUMAN      319    360             \\n',\n",
       " 'SEQRES   1 A   42  LYS LYS LYS PRO LEU ASP GLY GLU TYR PHE THR LEU GLN          \\n',\n",
       " 'SEQRES   2 A   42  ILE ARG GLY ARG GLU ARG PHE GLU MET PHE ARG GLU LEU          \\n',\n",
       " 'SEQRES   3 A   42  ASN GLU ALA LEU GLU LEU LYS ASP ALA GLN ALA GLY LYS          \\n',\n",
       " 'SEQRES   4 A   42  GLU PRO GLY                                                  \\n',\n",
       " 'SEQRES   1 B   42  LYS LYS LYS PRO LEU ASP GLY GLU TYR PHE THR LEU GLN          \\n',\n",
       " 'SEQRES   2 B   42  ILE ARG GLY ARG GLU ARG PHE GLU MET PHE ARG GLU LEU          \\n',\n",
       " 'SEQRES   3 B   42  ASN GLU ALA LEU GLU LEU LYS ASP ALA GLN ALA GLY LYS          \\n',\n",
       " 'SEQRES   4 B   42  GLU PRO GLY                                                  \\n',\n",
       " 'SEQRES   1 C   42  LYS LYS LYS PRO LEU ASP GLY GLU TYR PHE THR LEU GLN          \\n',\n",
       " 'SEQRES   2 C   42  ILE ARG GLY ARG GLU ARG PHE GLU MET PHE ARG GLU LEU          \\n',\n",
       " 'SEQRES   3 C   42  ASN GLU ALA LEU GLU LEU LYS ASP ALA GLN ALA GLY LYS          \\n',\n",
       " 'SEQRES   4 C   42  GLU PRO GLY                                                  \\n',\n",
       " 'SEQRES   1 D   42  LYS LYS LYS PRO LEU ASP GLY GLU TYR PHE THR LEU GLN          \\n',\n",
       " 'SEQRES   2 D   42  ILE ARG GLY ARG GLU ARG PHE GLU MET PHE ARG GLU LEU          \\n',\n",
       " 'SEQRES   3 D   42  ASN GLU ALA LEU GLU LEU LYS ASP ALA GLN ALA GLY LYS          \\n',\n",
       " 'SEQRES   4 D   42  GLU PRO GLY                                                  \\n',\n",
       " 'HELIX    1   1 GLY A  334  GLY A  356  1                                  23    \\n',\n",
       " 'HELIX    2   2 GLY B  334  GLY B  356  1                                  23    \\n',\n",
       " 'HELIX    3   3 GLY C  334  GLY C  356  1                                  23    \\n',\n",
       " 'HELIX    4   4 GLY D  334  GLY D  356  1                                  23    \\n',\n",
       " 'SHEET    1   A 2 TYR A 327  ARG A 333  0                                        \\n',\n",
       " 'SHEET    2   A 2 TYR C 327  ARG C 333 -1  N  PHE C 328   O  ILE A 332           \\n',\n",
       " 'SHEET    1   B 2 TYR B 327  ARG B 333  0                                        \\n',\n",
       " 'SHEET    2   B 2 TYR D 327  ARG D 333 -1  N  PHE D 328   O  ILE B 332           \\n',\n",
       " 'CRYST1    1.000    1.000    1.000  90.00  90.00  90.00 P 1           1          \\n',\n",
       " 'ORIGX1      1.000000  0.000000  0.000000        0.00000                         \\n',\n",
       " 'ORIGX2      0.000000  1.000000  0.000000        0.00000                         \\n',\n",
       " 'ORIGX3      0.000000  0.000000  1.000000        0.00000                         \\n',\n",
       " 'SCALE1      1.000000  0.000000  0.000000        0.00000                         \\n',\n",
       " 'SCALE2      0.000000  1.000000  0.000000        0.00000                         \\n',\n",
       " 'SCALE3      0.000000  0.000000  1.000000        0.00000                         \\n',\n",
       " 'ATOM      1  N   LYS A 319      18.634  25.437  10.685  1.00  4.81           N  \\n',\n",
       " 'ATOM      2  CA  LYS A 319      17.984  25.295   9.354  1.00  4.32           C  \\n',\n",
       " 'ATOM      3  C   LYS A 319      18.160  23.876   8.818  1.00  3.74           C  \\n',\n",
       " 'ATOM      4  O   LYS A 319      19.259  23.441   8.537  1.00  3.67           O  \\n',\n",
       " 'ATOM      5  CB  LYS A 319      18.609  26.282   8.371  1.00  4.67           C  \\n',\n",
       " 'ATOM      6  CG  LYS A 319      18.003  26.056   6.986  1.00  5.15           C  \\n',\n",
       " 'ATOM      7  CD  LYS A 319      16.476  26.057   7.091  1.00  5.90           C  \\n',\n",
       " 'ATOM      8  CE  LYS A 319      16.014  27.341   7.784  1.00  6.51           C  \\n',\n",
       " 'ATOM      9  NZ  LYS A 319      16.388  28.518   6.952  1.00  7.33           N  \\n',\n",
       " 'ATOM     10  H1  LYS A 319      18.414  24.606  11.281  1.00  5.09           H  \\n',\n",
       " 'ATOM     11  H2  LYS A 319      19.658  25.516  10.555  1.00  5.18           H  \\n',\n",
       " 'ATOM     12  H3  LYS A 319      18.282  26.296  11.150  1.00  4.96           H  \\n',\n",
       " 'ATOM     13  HA  LYS A 319      16.934  25.509   9.452  1.00  4.66           H  \\n',\n",
       " 'ATOM     14  HB2 LYS A 319      18.399  27.288   8.697  1.00  4.96           H  \\n',\n",
       " 'ATOM     15  HB3 LYS A 319      19.679  26.132   8.326  1.00  4.81           H  \\n',\n",
       " 'ATOM     16  HG2 LYS A 319      18.320  26.846   6.324  1.00  5.22           H  \\n',\n",
       " 'ATOM     17  HG3 LYS A 319      18.334  25.104   6.598  1.00  5.32           H  \\n',\n",
       " 'ATOM     18  HD2 LYS A 319      16.046  26.005   6.102  1.00  6.19           H  \\n',\n",
       " 'ATOM     19  HD3 LYS A 319      16.154  25.204   7.670  1.00  6.08           H  \\n',\n",
       " 'ATOM     20  HE2 LYS A 319      14.941  27.316   7.911  1.00  6.70           H  \\n']"
      ]
     },
     "execution_count": 33,
     "metadata": {},
     "output_type": "execute_result"
    }
   ],
   "source": [
    "f_list[:200]"
   ]
  },
  {
   "cell_type": "code",
   "execution_count": 7,
   "id": "592ebf70-532f-4245-8e19-70026eb94bf6",
   "metadata": {},
   "outputs": [
    {
     "name": "stdout",
     "output_type": "stream",
     "text": [
      "HEADER    ANTI-ONCOGENE                           13-JUN-94   1OLG              \n",
      "TITLE     HIGH-RESOLUTION SOLUTION STRUCTURE OF THE OLIGOMERIZATION             \n",
      "TITLE    2 DOMAIN OF P53 BY MULTI-DIMENSIONAL NMR                               \n",
      "COMPND    MOL_ID: 1;                                                            \n",
      "COMPND   2 MOLECULE: TUMOR SUPPRESSOR P53 (OLIGOMERIZATION DOMAIN);             \n",
      "COMPND   3 CHAIN: A, B, C, D;                                                   \n",
      "COMPND   4 ENGINEERED: YES                                                      \n",
      "SOURCE    MOL_ID: 1;                                                            \n",
      "SOURCE   2 ORGANISM_SCIENTIFIC: HOMO SAPIENS;                                   \n",
      "SOURCE   3 ORGANISM_COMMON: HUMAN;                                              \n"
     ]
    }
   ],
   "source": [
    "!head data/1OLG.pdb"
   ]
  },
  {
   "cell_type": "code",
   "execution_count": 8,
   "id": "bd7b49fa-3c41-49a7-a771-16595fb5c3bc",
   "metadata": {},
   "outputs": [
    {
     "name": "stdout",
     "output_type": "stream",
     "text": [
      "HEADER    ANTI-ONCOGENE                           13-JUN-94   1OLG\n",
      "TITLE     HIGH-RESOLUTION SOLUTION STRUCTURE OF THE OLIGOMERIZATION\n"
     ]
    }
   ],
   "source": [
    "print(f_list[0].rstrip())\n",
    "print(f_list[1].rstrip())"
   ]
  },
  {
   "cell_type": "code",
   "execution_count": 9,
   "id": "eb190e8c-0f97-4812-bd1c-c0cff0f66e07",
   "metadata": {},
   "outputs": [
    {
     "name": "stdout",
     "output_type": "stream",
     "text": [
      "HEADER    ANTI-ONCOGENE                           13-JUN-94   1OLG\n",
      "TITLE     HIGH-RESOLUTION SOLUTION STRUCTURE OF THE OLIGOMERIZATION\n",
      "TITLE    2 DOMAIN OF P53 BY MULTI-DIMENSIONAL NMR\n",
      "COMPND    MOL_ID: 1;\n",
      "COMPND   2 MOLECULE: TUMOR SUPPRESSOR P53 (OLIGOMERIZATION DOMAIN);\n",
      "COMPND   3 CHAIN: A, B, C, D;\n",
      "COMPND   4 ENGINEERED: YES\n",
      "SOURCE    MOL_ID: 1;\n",
      "SOURCE   2 ORGANISM_SCIENTIFIC: HOMO SAPIENS;\n",
      "SOURCE   3 ORGANISM_COMMON: HUMAN;\n",
      "SOURCE   4 ORGANISM_TAXID: 9606\n"
     ]
    }
   ],
   "source": [
    "# Print the first ten lines of the file\n",
    "with open('data/1OLG.pdb', 'r') as f:\n",
    "    for i, line in enumerate(f):\n",
    "        print(line.rstrip())\n",
    "        if i >= 10:\n",
    "            break"
   ]
  },
  {
   "cell_type": "code",
   "execution_count": 10,
   "id": "e9985491-d8bb-454f-a164-7fe681d63bca",
   "metadata": {},
   "outputs": [
    {
     "data": {
      "text/plain": [
       "True"
      ]
     },
     "execution_count": 10,
     "metadata": {},
     "output_type": "execute_result"
    }
   ],
   "source": [
    "os.path.isfile('data/1OLG.pdb')"
   ]
  },
  {
   "cell_type": "code",
   "execution_count": 11,
   "id": "b4620439-23e1-45f9-8c0d-f766e054ca4b",
   "metadata": {},
   "outputs": [],
   "source": [
    "if os.path.isfile('yogi.txt'):\n",
    "    raise RuntimeError('File yogi.txt already exists.')\n",
    "\n",
    "with open('yogi.txt', 'w') as f:\n",
    "    f.write('When you come to a fork in the road, take it.')\n",
    "    f.write('You can observe a lot by just watching.')\n",
    "    f.write('I never said most of the things I said.')"
   ]
  },
  {
   "cell_type": "code",
   "execution_count": 12,
   "id": "20f533db-648b-4d18-b6c0-7cef2fb3a967",
   "metadata": {},
   "outputs": [
    {
     "name": "stdout",
     "output_type": "stream",
     "text": [
      "When you come to a fork in the road, take it.You can observe a lot by just watching.I never said most of the things I said."
     ]
    }
   ],
   "source": [
    "!cat yogi.txt"
   ]
  },
  {
   "cell_type": "code",
   "execution_count": 13,
   "id": "8ed58485-02db-48c6-95cf-665c7266764f",
   "metadata": {},
   "outputs": [
    {
     "name": "stdout",
     "output_type": "stream",
     "text": [
      "When you come to a fork in the road, take it.\n",
      "You can observe a lot by just watching.\n",
      "I never said most of the things I said.\n"
     ]
    }
   ],
   "source": [
    "with open('yogi.txt', 'w') as f:\n",
    "    f.write('When you come to a fork in the road, take it.\\n')\n",
    "    f.write('You can observe a lot by just watching.\\n')\n",
    "    f.write('I never said most of the things I said.\\n')\n",
    "\n",
    "!cat yogi.txt"
   ]
  },
  {
   "cell_type": "code",
   "execution_count": 18,
   "id": "559a2a10-5c27-4d79-9ed7-404da5ce066f",
   "metadata": {},
   "outputs": [
    {
     "ename": "TypeError",
     "evalue": "write() argument must be str, not float",
     "output_type": "error",
     "traceback": [
      "\u001b[0;31m---------------------------------------------------------------------------\u001b[0m",
      "\u001b[0;31mTypeError\u001b[0m                                 Traceback (most recent call last)",
      "\u001b[0;32m<ipython-input-18-9265e8a96772>\u001b[0m in \u001b[0;36m<module>\u001b[0;34m\u001b[0m\n\u001b[1;32m      2\u001b[0m \u001b[0;32mwith\u001b[0m \u001b[0mopen\u001b[0m\u001b[0;34m(\u001b[0m\u001b[0;34m'gimme_phi.txt'\u001b[0m\u001b[0;34m,\u001b[0m \u001b[0;34m'w'\u001b[0m\u001b[0;34m)\u001b[0m \u001b[0;32mas\u001b[0m \u001b[0mf\u001b[0m\u001b[0;34m:\u001b[0m\u001b[0;34m\u001b[0m\u001b[0;34m\u001b[0m\u001b[0m\n\u001b[1;32m      3\u001b[0m     \u001b[0mf\u001b[0m\u001b[0;34m.\u001b[0m\u001b[0mwrite\u001b[0m\u001b[0;34m(\u001b[0m\u001b[0;34m'The golden ratio is φ = '\u001b[0m\u001b[0;34m)\u001b[0m\u001b[0;34m\u001b[0m\u001b[0;34m\u001b[0m\u001b[0m\n\u001b[0;32m----> 4\u001b[0;31m     \u001b[0mf\u001b[0m\u001b[0;34m.\u001b[0m\u001b[0mwrite\u001b[0m\u001b[0;34m(\u001b[0m\u001b[0;36m1.61803398875\u001b[0m\u001b[0;34m)\u001b[0m\u001b[0;34m\u001b[0m\u001b[0;34m\u001b[0m\u001b[0m\n\u001b[0m",
      "\u001b[0;31mTypeError\u001b[0m: write() argument must be str, not float"
     ]
    }
   ],
   "source": [
    "# This will result in an exception\n",
    "with open('gimme_phi.txt', 'w') as f:\n",
    "    f.write('The golden ratio is φ = ')\n",
    "    f.write(1.61803398875)"
   ]
  },
  {
   "cell_type": "code",
   "execution_count": 19,
   "id": "abdd7427-7022-4da8-8dae-80e28c3d41e8",
   "metadata": {},
   "outputs": [
    {
     "name": "stdout",
     "output_type": "stream",
     "text": [
      "The golden ratio is φ = 1.61803399"
     ]
    }
   ],
   "source": [
    "with open('gimme_phi.txt', 'w') as f:\n",
    "    f.write('The golden ratio is φ = ')\n",
    "    f.write('{phi:.8f}'.format(phi=1.61803398875))\n",
    "\n",
    "!cat gimme_phi.txt"
   ]
  },
  {
   "cell_type": "code",
   "execution_count": 22,
   "id": "c68a2b9c-48a4-4c16-a5ac-8e327b43cace",
   "metadata": {},
   "outputs": [
    {
     "name": "stdout",
     "output_type": "stream",
     "text": [
      "HEADER    ANTI-ONCOGENE                           13-JUN-94   1OLG              \n",
      "TITLE     HIGH-RESOLUTION SOLUTION STRUCTURE OF THE OLIGOMERIZATION             \n",
      "TITLE    2 DOMAIN OF P53 BY MULTI-DIMENSIONAL NMR                               \n",
      "COMPND    MOL_ID: 1;                                                            \n",
      "COMPND   2 MOLECULE: TUMOR SUPPRESSOR P53 (OLIGOMERIZATION DOMAIN);             \n",
      "COMPND   3 CHAIN: A, B, C, D;                                                   \n",
      "COMPND   4 ENGINEERED: YES                                                      \n",
      "SOURCE    MOL_ID: 1;                                                            \n",
      "SOURCE   2 ORGANISM_SCIENTIFIC: HOMO SAPIENS;                                   \n",
      "SOURCE   3 ORGANISM_COMMON: HUMAN;                                              \n"
     ]
    }
   ],
   "source": [
    "!head data/1OLG.pdb"
   ]
  },
  {
   "cell_type": "code",
   "execution_count": 23,
   "id": "ee56b467-72da-4752-a52d-44a266a5517d",
   "metadata": {},
   "outputs": [],
   "source": [
    "with open('data/1OLG.pdb', 'r') as f, open('atoms_chain_A.txt', 'w') as f_out: #read the pdb file and write in on a new text file\n",
    "   #different aliases\n",
    "    # Put the ATOM lines from chain A in new file\n",
    "    for line in f:\n",
    "        if len(line) > 21 and line[:4] == 'ATOM' and line[21] == 'A':\n",
    "            f_out.write(line)"
   ]
  },
  {
   "cell_type": "code",
   "execution_count": 24,
   "id": "8569f425-9798-417a-a561-dbb1e7040098",
   "metadata": {},
   "outputs": [],
   "source": [
    "file_list = glob.glob('data/*.pdb')"
   ]
  },
  {
   "cell_type": "code",
   "execution_count": 25,
   "id": "8b31a781-a9c6-4154-a1b2-944a398b202d",
   "metadata": {},
   "outputs": [
    {
     "data": {
      "text/plain": [
       "['data/1OLG.pdb', 'data/1J6Z.pdb', 'data/1FAG.pdb', 'data/2ERK.pdb']"
      ]
     },
     "execution_count": 25,
     "metadata": {},
     "output_type": "execute_result"
    }
   ],
   "source": [
    "file_list"
   ]
  },
  {
   "cell_type": "code",
   "execution_count": 29,
   "id": "16bca072-a861-42db-99fc-53f06f4dbed8",
   "metadata": {},
   "outputs": [],
   "source": [
    "# Dictionary to hold sequences\n",
    "seqs = {}\n",
    "\n",
    "# Loop through all matching files\n",
    "for file_name in file_list:\n",
    "    # Extract PDB ID\n",
    "    pdb_id = file_name[file_name.find('/')+1:file_name.rfind('.')]\n",
    "\n",
    "    # Initialize sequence string, which we build as we go along\n",
    "    seq = ''\n",
    "    with open(file_name, 'r') as f:\n",
    "        for line in f:\n",
    "            if len(line) > 11 and line[:6] == 'SEQRES' and line[11] == 'A':\n",
    "                seq += line[19:].rstrip() + ' '\n",
    "\n",
    "    # Build sequence with dash-joined three letter codes\n",
    "    seq = '-'.join(seq.split())\n",
    "\n",
    "    # Store in the dictionary\n",
    "    seqs[pdb_id] = seq"
   ]
  },
  {
   "cell_type": "code",
   "execution_count": 30,
   "id": "b5079f5a-9c0d-4ea8-98e9-5657b7827dca",
   "metadata": {},
   "outputs": [
    {
     "data": {
      "text/plain": [
       "'ALA-HIS-HIS-HIS-HIS-HIS-HIS-MET-ALA-ALA-ALA-ALA-ALA-ALA-GLY-PRO-GLU-MET-VAL-ARG-GLY-GLN-VAL-PHE-ASP-VAL-GLY-PRO-ARG-TYR-THR-ASN-LEU-SER-TYR-ILE-GLY-GLU-GLY-ALA-TYR-GLY-MET-VAL-CYS-SER-ALA-TYR-ASP-ASN-LEU-ASN-LYS-VAL-ARG-VAL-ALA-ILE-LYS-LYS-ILE-SER-PRO-PHE-GLU-HIS-GLN-THR-TYR-CYS-GLN-ARG-THR-LEU-ARG-GLU-ILE-LYS-ILE-LEU-LEU-ARG-PHE-ARG-HIS-GLU-ASN-ILE-ILE-GLY-ILE-ASN-ASP-ILE-ILE-ARG-ALA-PRO-THR-ILE-GLU-GLN-MET-LYS-ASP-VAL-TYR-ILE-VAL-GLN-ASP-LEU-MET-GLU-THR-ASP-LEU-TYR-LYS-LEU-LEU-LYS-THR-GLN-HIS-LEU-SER-ASN-ASP-HIS-ILE-CYS-TYR-PHE-LEU-TYR-GLN-ILE-LEU-ARG-GLY-LEU-LYS-TYR-ILE-HIS-SER-ALA-ASN-VAL-LEU-HIS-ARG-ASP-LEU-LYS-PRO-SER-ASN-LEU-LEU-LEU-ASN-THR-THR-CYS-ASP-LEU-LYS-ILE-CYS-ASP-PHE-GLY-LEU-ALA-ARG-VAL-ALA-ASP-PRO-ASP-HIS-ASP-HIS-THR-GLY-PHE-LEU-TPO-GLU-PTR-VAL-ALA-THR-ARG-TRP-TYR-ARG-ALA-PRO-GLU-ILE-MET-LEU-ASN-SER-LYS-GLY-TYR-THR-LYS-SER-ILE-ASP-ILE-TRP-SER-VAL-GLY-CYS-ILE-LEU-ALA-GLU-MET-LEU-SER-ASN-ARG-PRO-ILE-PHE-PRO-GLY-LYS-HIS-TYR-LEU-ASP-GLN-LEU-ASN-HIS-ILE-LEU-GLY-ILE-LEU-GLY-SER-PRO-SER-GLN-GLU-ASP-LEU-ASN-CYS-ILE-ILE-ASN-LEU-LYS-ALA-ARG-ASN-TYR-LEU-LEU-SER-LEU-PRO-HIS-LYS-ASN-LYS-VAL-PRO-TRP-ASN-ARG-LEU-PHE-PRO-ASN-ALA-ASP-SER-LYS-ALA-LEU-ASP-LEU-LEU-ASP-LYS-MET-LEU-THR-PHE-ASN-PRO-HIS-LYS-ARG-ILE-GLU-VAL-GLU-GLN-ALA-LEU-ALA-HIS-PRO-TYR-LEU-GLU-GLN-TYR-TYR-ASP-PRO-SER-ASP-GLU-PRO-ILE-ALA-GLU-ALA-PRO-PHE-LYS-PHE-ASP-MET-GLU-LEU-ASP-ASP-LEU-PRO-LYS-GLU-LYS-LEU-LYS-GLU-LEU-ILE-PHE-GLU-GLU-THR-ALA-ARG-PHE-GLN-PRO-GLY-TYR-ARG-SER'"
      ]
     },
     "execution_count": 30,
     "metadata": {},
     "output_type": "execute_result"
    }
   ],
   "source": [
    "seq"
   ]
  },
  {
   "cell_type": "code",
   "execution_count": null,
   "id": "51d89a62-0ecb-46c7-b413-aa5184281e96",
   "metadata": {},
   "outputs": [],
   "source": []
  }
 ],
 "metadata": {
  "kernelspec": {
   "display_name": "Python 3",
   "language": "python",
   "name": "python3"
  },
  "language_info": {
   "codemirror_mode": {
    "name": "ipython",
    "version": 3
   },
   "file_extension": ".py",
   "mimetype": "text/x-python",
   "name": "python",
   "nbconvert_exporter": "python",
   "pygments_lexer": "ipython3",
   "version": "3.8.10"
  }
 },
 "nbformat": 4,
 "nbformat_minor": 5
}
