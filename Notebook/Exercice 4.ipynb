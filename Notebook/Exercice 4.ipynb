{
 "cells": [
  {
   "cell_type": "markdown",
   "id": "b100bf55-d183-4d09-8d5d-8d8a6fb488fd",
   "metadata": {},
   "source": [
    "# Exercice 4"
   ]
  },
  {
   "cell_type": "markdown",
   "id": "6eea3cd1-1157-4ff8-9361-2c1bfd91ee43",
   "metadata": {},
   "source": [
    "## exercice 4.1"
   ]
  },
  {
   "cell_type": "code",
   "execution_count": 2,
   "id": "8b07dc2b-c7fa-4168-822a-6efb18513c47",
   "metadata": {},
   "outputs": [],
   "source": [
    "seq = 'ATGACTACGT' \n",
    "block_size = 4"
   ]
  },
  {
   "cell_type": "code",
   "execution_count": 21,
   "id": "604c4a48-975f-4307-9c74-5bb65432a465",
   "metadata": {},
   "outputs": [],
   "source": [
    "def seq_block(seq,block_size):\n",
    "    blocks = []\n",
    "    for i in range(0,len(seq),block_size):\n",
    "        block = seq[i:i+block_size]\n",
    "        if len(block) == block_size:\n",
    "            blocks.append(block)\n",
    "    return blocks"
   ]
  },
  {
   "cell_type": "code",
   "execution_count": 22,
   "id": "7b262bbc-34f6-4639-9f07-eba1d0b81ef7",
   "metadata": {},
   "outputs": [
    {
     "data": {
      "text/plain": [
       "['ATGA', 'CTAC']"
      ]
     },
     "execution_count": 22,
     "metadata": {},
     "output_type": "execute_result"
    }
   ],
   "source": [
    "seq_block(seq,block_size)"
   ]
  },
  {
   "cell_type": "code",
   "execution_count": 7,
   "id": "511ab0f9-aff6-4d01-8392-170c0d36a077",
   "metadata": {},
   "outputs": [],
   "source": [
    "def gc_block(seq,block_size):\n",
    "    gc = []\n",
    "    seq.upper()\n",
    "    for i in range(0,len(seq),block_size):\n",
    "        block = seq[i:i+block_size]\n",
    "        if len(block) == block_size:\n",
    "            gc.append((block.count('G')+block.count('C'))/block_size)\n",
    "    return tuple(gc)\n",
    "            \n",
    "        "
   ]
  },
  {
   "cell_type": "code",
   "execution_count": 8,
   "id": "fc3cfa9b-afb4-46ef-9ce7-b0df69c131b4",
   "metadata": {},
   "outputs": [
    {
     "data": {
      "text/plain": [
       "(0.25, 0.5)"
      ]
     },
     "execution_count": 8,
     "metadata": {},
     "output_type": "execute_result"
    }
   ],
   "source": [
    "gc_block(seq,block_size)"
   ]
  },
  {
   "cell_type": "code",
   "execution_count": 31,
   "id": "b6f8e9bd-d432-4cd7-b2e8-1214fd42cb3e",
   "metadata": {},
   "outputs": [],
   "source": [
    "def gc_map(seq, block_size, gc_thresh):\n",
    "    \n",
    "    #First make sure all the bases are uppercase\n",
    "    seq.upper()\n",
    "    bl=''\n",
    "    gc_content = gc_block(seq,block_size)\n",
    "    seq_blocks =seq_block(seq,block_size)\n",
    "    for i,_ in enumerate(gc_content):\n",
    "        if gc_content[i]<gc_thresh:\n",
    "            bl += seq_blocks[i].lower()\n",
    "        else:\n",
    "            bl+=seq_blocks[i]\n",
    "            \n",
    "    return bl"
   ]
  },
  {
   "cell_type": "code",
   "execution_count": 32,
   "id": "19e3dd16-5b60-4b5f-a8a6-dfd0ed3cd3e7",
   "metadata": {},
   "outputs": [
    {
     "data": {
      "text/plain": [
       "'atgaCTAC'"
      ]
     },
     "execution_count": 32,
     "metadata": {},
     "output_type": "execute_result"
    }
   ],
   "source": [
    "gc_map(seq, block_size, 0.4)"
   ]
  },
  {
   "cell_type": "code",
   "execution_count": 33,
   "id": "b262ca6b-efc7-402b-9d73-63d1f2b51f49",
   "metadata": {},
   "outputs": [],
   "source": [
    "salmonella = 'data/salmonella_spi1_region.fna'"
   ]
  },
  {
   "cell_type": "code",
   "execution_count": null,
   "id": "a3ce78ef-e71a-4680-bcaf-b50908983fec",
   "metadata": {},
   "outputs": [],
   "source": []
  }
 ],
 "metadata": {
  "kernelspec": {
   "display_name": "Python 3",
   "language": "python",
   "name": "python3"
  },
  "language_info": {
   "codemirror_mode": {
    "name": "ipython",
    "version": 3
   },
   "file_extension": ".py",
   "mimetype": "text/x-python",
   "name": "python",
   "nbconvert_exporter": "python",
   "pygments_lexer": "ipython3",
   "version": "3.8.10"
  }
 },
 "nbformat": 4,
 "nbformat_minor": 5
}
