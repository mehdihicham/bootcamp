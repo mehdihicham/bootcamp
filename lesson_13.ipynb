{
 "cells": [
  {
   "cell_type": "code",
   "execution_count": 1,
   "id": "56acfabe-98f8-44f8-90ca-26d27b95c799",
   "metadata": {},
   "outputs": [],
   "source": [
    "import warnings\n",
    "import bootcamp_utils"
   ]
  },
  {
   "cell_type": "code",
   "execution_count": 2,
   "id": "d5396d36-a272-41b3-a887-99c1e879b671",
   "metadata": {},
   "outputs": [
    {
     "ename": "ModuleNotFoundError",
     "evalue": "No module named 'gc_content'",
     "output_type": "error",
     "traceback": [
      "\u001b[0;31m---------------------------------------------------------------------------\u001b[0m",
      "\u001b[0;31mModuleNotFoundError\u001b[0m                       Traceback (most recent call last)",
      "\u001b[0;32m<ipython-input-2-b2d775210337>\u001b[0m in \u001b[0;36m<module>\u001b[0;34m\u001b[0m\n\u001b[0;32m----> 1\u001b[0;31m \u001b[0;32mimport\u001b[0m \u001b[0mgc_content\u001b[0m\u001b[0;34m\u001b[0m\u001b[0;34m\u001b[0m\u001b[0m\n\u001b[0m",
      "\u001b[0;31mModuleNotFoundError\u001b[0m: No module named 'gc_content'"
     ]
    }
   ],
   "source": [
    "import gc_content\n"
   ]
  },
  {
   "cell_type": "code",
   "execution_count": null,
   "id": "fb8ebe55-2684-441e-b68d-28bcaaa7762a",
   "metadata": {},
   "outputs": [],
   "source": [
    "# Try to get the gc_content module\n",
    "try:\n",
    "    import gc_content\n",
    "    have_gc = True\n",
    "except ImportError as e:\n",
    "    have_gc = False\n",
    "finally:\n",
    "    # Do whatever is necessary here, like close files\n",
    "    pass\n",
    "\n",
    "seq = 'ACGATCTACGATCAGCTGCGCGCATCG'\n",
    "\n",
    "if have_gc:\n",
    "    print(gc_content(seq))\n",
    "else:\n",
    "    print(seq.count('G') + seq.count('C'))"
   ]
  },
  {
   "cell_type": "code",
   "execution_count": null,
   "id": "8473fbfc-e936-4ed6-8557-1631e1686261",
   "metadata": {},
   "outputs": [],
   "source": [
    "# Try to get the gc_content module\n",
    "try:\n",
    "    import gc_content\n",
    "\n",
    "    have_gc = True\n",
    "except ImportError as e:\n",
    "    have_gc = False\n",
    "    warnings.warn(\n",
    "        \"Failed to load gc_content. Using custom function.\", UserWarning\n",
    "    )\n",
    "finally:\n",
    "    pass\n",
    "\n",
    "seq = \"ACGATCTACGATCAGCTGCGCGCATCG\"\n",
    "\n",
    "if have_gc:\n",
    "    print(gc_content(seq))\n",
    "else:\n",
    "    print(seq.count(\"G\") + seq.count(\"C\"))"
   ]
  },
  {
   "cell_type": "code",
   "execution_count": 5,
   "id": "51acb230-aece-47dc-a077-6a14175d5129",
   "metadata": {},
   "outputs": [],
   "source": [
    "def one_to_three(seq):\n",
    "    \"\"\"Converts from one-letter abbreviation to three letters\"\"\"\n",
    "    seq = seq.upper()\n",
    "    \n",
    "    aa_list = []\n",
    "    \n",
    "    for amino_acid in seq:\n",
    "        if amino_acid not in bootcamp_utils.aakeys():\n",
    "            raise RuntimeError()\n",
    "            "
   ]
  },
  {
   "cell_type": "code",
   "execution_count": 4,
   "id": "e5d631b5-efd7-44e1-8461-51bb7f55e870",
   "metadata": {},
   "outputs": [
    {
     "data": {
      "text/plain": [
       "dict_keys(['A', 'R', 'N', 'D', 'C', 'Q', 'E', 'G', 'H', 'I', 'L', 'K', 'M', 'F', 'P', 'S', 'T', 'W', 'Y', 'V'])"
      ]
     },
     "execution_count": 4,
     "metadata": {},
     "output_type": "execute_result"
    }
   ],
   "source": [
    "bootcamp_utils.aa.keys()"
   ]
  },
  {
   "cell_type": "code",
   "execution_count": null,
   "id": "64137f8b-aca5-490d-93ed-52cfd81ce687",
   "metadata": {},
   "outputs": [],
   "source": []
  }
 ],
 "metadata": {
  "kernelspec": {
   "display_name": "Python 3",
   "language": "python",
   "name": "python3"
  },
  "language_info": {
   "codemirror_mode": {
    "name": "ipython",
    "version": 3
   },
   "file_extension": ".py",
   "mimetype": "text/x-python",
   "name": "python",
   "nbconvert_exporter": "python",
   "pygments_lexer": "ipython3",
   "version": "3.8.10"
  }
 },
 "nbformat": 4,
 "nbformat_minor": 5
}
