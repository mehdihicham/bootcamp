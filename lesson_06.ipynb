{
 "cells": [
  {
   "cell_type": "markdown",
   "id": "65edd018-6f38-460f-ac6c-ab9b046af846",
   "metadata": {},
   "source": [
    "# Iteration"
   ]
  },
  {
   "cell_type": "code",
   "execution_count": 2,
   "id": "ba8d5127-9c05-46c7-9174-c1d2f5df385a",
   "metadata": {},
   "outputs": [
    {
     "data": {
      "text/plain": [
       "0.5517241379310345"
      ]
     },
     "execution_count": 2,
     "metadata": {},
     "output_type": "execute_result"
    }
   ],
   "source": [
    "seq = 'GACAGACUCCAUGCACGUGGGUAUCUGUC'\n",
    "\n",
    "n_gc = 0\n",
    "\n",
    "for i in seq:\n",
    "    if i in 'GCgc':\n",
    "        n_gc +=1\n",
    "n_gc/len(seq)\n"
   ]
  },
  {
   "cell_type": "code",
   "execution_count": 22,
   "id": "9f67e160-578b-434f-ba5a-5d8de7e45148",
   "metadata": {},
   "outputs": [
    {
     "name": "stdout",
     "output_type": "stream",
     "text": [
      "1  A  C  A  5  A  C  U  C  C  A  U  13  C  A  C  17  U  19  20  21  U  A  U  C  U  27  U  C  "
     ]
    }
   ],
   "source": [
    "for a,b in enumerate(seq):\n",
    "    if b in 'Gg':\n",
    "        print(a+1, end= \"  \")\n",
    "    else : \n",
    "        print(b,end =\"  \")"
   ]
  },
  {
   "cell_type": "code",
   "execution_count": 29,
   "id": "dcbb77be-c238-4801-b816-bf4cccab7bf2",
   "metadata": {},
   "outputs": [
    {
     "name": "stdout",
     "output_type": "stream",
     "text": [
      "0\n",
      "1\n",
      "2\n",
      "3\n",
      "4\n",
      "5\n",
      "6\n",
      "7\n",
      "8\n",
      "9\n",
      "10\n",
      "11\n",
      "12\n",
      "13\n",
      "14\n",
      "15\n",
      "16\n",
      "17\n",
      "18\n",
      "19\n",
      "20\n",
      "21\n",
      "22\n",
      "23\n",
      "24\n",
      "25\n",
      "26\n",
      "27\n",
      "28\n"
     ]
    }
   ],
   "source": [
    "for a,_ in enumerate(seq):\n",
    "    print(a)"
   ]
  },
  {
   "cell_type": "code",
   "execution_count": 31,
   "id": "e1b7446c-a446-4bd5-8829-d4fa0b94870d",
   "metadata": {},
   "outputs": [
    {
     "data": {
      "text/plain": [
       "\u001b[0;31mInit signature:\u001b[0m \u001b[0menumerate\u001b[0m\u001b[0;34m(\u001b[0m\u001b[0miterable\u001b[0m\u001b[0;34m,\u001b[0m \u001b[0mstart\u001b[0m\u001b[0;34m=\u001b[0m\u001b[0;36m0\u001b[0m\u001b[0;34m)\u001b[0m\u001b[0;34m\u001b[0m\u001b[0;34m\u001b[0m\u001b[0m\n",
       "\u001b[0;31mDocstring:\u001b[0m     \n",
       "Return an enumerate object.\n",
       "\n",
       "  iterable\n",
       "    an object supporting iteration\n",
       "\n",
       "The enumerate object yields pairs containing a count (from start, which\n",
       "defaults to zero) and a value yielded by the iterable argument.\n",
       "\n",
       "enumerate is useful for obtaining an indexed list:\n",
       "    (0, seq[0]), (1, seq[1]), (2, seq[2]), ...\n",
       "\u001b[0;31mType:\u001b[0m           type\n",
       "\u001b[0;31mSubclasses:\u001b[0m     \n"
      ]
     },
     "metadata": {},
     "output_type": "display_data"
    }
   ],
   "source": [
    "?enumerate"
   ]
  },
  {
   "cell_type": "markdown",
   "id": "67e66699-911a-4eda-bc66-9411f04a0ea3",
   "metadata": {},
   "source": [
    "# Functions"
   ]
  },
  {
   "cell_type": "code",
   "execution_count": 46,
   "id": "52f2bdbc-b79a-489d-aed6-42a0b1056b37",
   "metadata": {},
   "outputs": [],
   "source": [
    "\n",
    "def ratio(x,y):\n",
    "    \"\"\"build a function that does the ratio : x/y\n",
    "    x and y are float\"\"\"\n",
    "    return x/y"
   ]
  },
  {
   "cell_type": "code",
   "execution_count": 70,
   "id": "0b4dfc2f-980c-4717-aa59-0de200e1a650",
   "metadata": {},
   "outputs": [
    {
     "data": {
      "text/plain": [
       "\u001b[0;31mSignature:\u001b[0m \u001b[0mratio\u001b[0m\u001b[0;34m(\u001b[0m\u001b[0mx\u001b[0m\u001b[0;34m,\u001b[0m \u001b[0my\u001b[0m\u001b[0;34m)\u001b[0m\u001b[0;34m\u001b[0m\u001b[0;34m\u001b[0m\u001b[0m\n",
       "\u001b[0;31mDocstring:\u001b[0m\n",
       "build a function that does the ratio : x/y\n",
       "x and y are float\n",
       "\u001b[0;31mFile:\u001b[0m      ~/git/bootcamp/<ipython-input-46-571fc5817273>\n",
       "\u001b[0;31mType:\u001b[0m      function\n"
      ]
     },
     "metadata": {},
     "output_type": "display_data"
    }
   ],
   "source": [
    "?ratio\n"
   ]
  },
  {
   "cell_type": "code",
   "execution_count": 48,
   "id": "8d85d077-36a4-4976-a93d-e5ffef8b9983",
   "metadata": {},
   "outputs": [],
   "source": [
    "def think_too_much():\n",
    "    \"\"\"Express Caesar's skepticism about Cassius\"\"\"\n",
    "    print(\"\"\"Yond Cassius has a lean and hungry look,\n",
    "He thinks too much; such men are dangerous.\"\"\")"
   ]
  },
  {
   "cell_type": "code",
   "execution_count": 86,
   "id": "bb1526c8-0887-4b86-848d-0ca56b7e96db",
   "metadata": {},
   "outputs": [
    {
     "name": "stdout",
     "output_type": "stream",
     "text": [
      "Yond Cassius has a lean and hungry look,\n",
      "He thinks too much; such men are dangerous.\n",
      "Yond Cassius has a lean and hungry look,\n",
      "He thinks too much; such men are dangerous.\n",
      "\n",
      "None\n"
     ]
    }
   ],
   "source": [
    "return_val = think_too_much()\n",
    "return_val = think_too_much()\n",
    "\n",
    "# Print a blank line\n",
    "print()\n",
    "\n",
    "# Print the return value\n",
    "print(return_val)\n",
    "\n",
    "\n"
   ]
  },
  {
   "cell_type": "code",
   "execution_count": 82,
   "id": "08ee4954-2ec6-4d72-ae38-216bdeafbd1d",
   "metadata": {},
   "outputs": [
    {
     "name": "stdout",
     "output_type": "stream",
     "text": [
      "[-15, 0, 1001, 1002, 1003, 1004, 1005, 1006]\n"
     ]
    }
   ],
   "source": [
    "liste = [-15,0,1,2,3,4,5,6]\n",
    "for i in range(2,len(liste)):\n",
    "    liste[i]+=1000\n",
    "print(liste)"
   ]
  },
  {
   "cell_type": "code",
   "execution_count": 81,
   "id": "bb5f935c-dccd-42b1-9e84-214bcc438162",
   "metadata": {},
   "outputs": [
    {
     "data": {
      "text/plain": [
       "[-15, 0, 1001, 1002, 1003, 1004, 1005, 1006]"
      ]
     },
     "execution_count": 81,
     "metadata": {},
     "output_type": "execute_result"
    }
   ],
   "source": [
    "liste"
   ]
  },
  {
   "cell_type": "code",
   "execution_count": 91,
   "id": "c4df99be-665b-4243-b063-aae8a2adf51f",
   "metadata": {},
   "outputs": [],
   "source": [
    "def mult_number(a,b,c):\n",
    "    return a*b*c\n"
   ]
  },
  {
   "cell_type": "code",
   "execution_count": 102,
   "id": "7349cd5e-9f1a-46c2-8510-cd227ca5a8ee",
   "metadata": {},
   "outputs": [],
   "source": [
    "my_numbers  = (4,5,6)"
   ]
  },
  {
   "cell_type": "code",
   "execution_count": 103,
   "id": "6a96fdeb-4ab7-425b-aa35-6d0076d73cfd",
   "metadata": {},
   "outputs": [
    {
     "data": {
      "text/plain": [
       "120"
      ]
     },
     "execution_count": 103,
     "metadata": {},
     "output_type": "execute_result"
    }
   ],
   "source": [
    "mult_number(*my_numbers)"
   ]
  },
  {
   "cell_type": "code",
   "execution_count": 107,
   "id": "0d2aad1c-e332-4a81-a596-f58483408a56",
   "metadata": {},
   "outputs": [],
   "source": [
    "form = \"\"\"Je fais un {nom}, pour voir si ça {verbe}\"\"\".format(nom= \"test\",verbe=\"marche\")"
   ]
  },
  {
   "cell_type": "code",
   "execution_count": 108,
   "id": "25bc47d2-456d-402f-9a5c-70de7b0f39e0",
   "metadata": {},
   "outputs": [
    {
     "data": {
      "text/plain": [
       "'Je fais un test, pour voir si ça marche'"
      ]
     },
     "execution_count": 108,
     "metadata": {},
     "output_type": "execute_result"
    }
   ],
   "source": [
    "form"
   ]
  },
  {
   "cell_type": "code",
   "execution_count": 1,
   "id": "5ac595ef-b07b-4ed3-8833-b23703f5708d",
   "metadata": {},
   "outputs": [],
   "source": [
    "from math import exp "
   ]
  },
  {
   "cell_type": "code",
   "execution_count": 2,
   "id": "576b01d0-31cd-4543-9275-9f044983448f",
   "metadata": {},
   "outputs": [
    {
     "data": {
      "text/plain": [
       "2.718281828459045"
      ]
     },
     "execution_count": 2,
     "metadata": {},
     "output_type": "execute_result"
    }
   ],
   "source": [
    "exp(1)"
   ]
  },
  {
   "cell_type": "code",
   "execution_count": 11,
   "id": "3d9d46ba-6799-43c5-9370-8856102c2f48",
   "metadata": {},
   "outputs": [],
   "source": [
    "e = \"exponential is equal to {e:15f}\".format(e=exp(1))"
   ]
  },
  {
   "cell_type": "code",
   "execution_count": 12,
   "id": "0218572b-7e6a-47a5-93ae-ca038253c7f2",
   "metadata": {},
   "outputs": [
    {
     "data": {
      "text/plain": [
       "'exponential is equal to        2.718282'"
      ]
     },
     "execution_count": 12,
     "metadata": {},
     "output_type": "execute_result"
    }
   ],
   "source": [
    "e"
   ]
  },
  {
   "cell_type": "code",
   "execution_count": 13,
   "id": "e4dd14f4-b836-4ef6-a0ad-9bd6f9958cf6",
   "metadata": {},
   "outputs": [
    {
     "name": "stdout",
     "output_type": "stream",
     "text": [
      "La France a 2 étoiles sur le maillot, alors que la Suisse en a 0\n"
     ]
    }
   ],
   "source": [
    "number_star_fr = 2\n",
    "number_star_ch = 0\n",
    "\n",
    "print(f\"La France a {number_star_fr} étoiles sur le maillot, alors que la Suisse en a {number_star_ch}\")"
   ]
  },
  {
   "cell_type": "code",
   "execution_count": null,
   "id": "42b58606-89f6-4c33-af90-db20d21b88e7",
   "metadata": {},
   "outputs": [],
   "source": []
  }
 ],
 "metadata": {
  "kernelspec": {
   "display_name": "Python 3",
   "language": "python",
   "name": "python3"
  },
  "language_info": {
   "codemirror_mode": {
    "name": "ipython",
    "version": 3
   },
   "file_extension": ".py",
   "mimetype": "text/x-python",
   "name": "python",
   "nbconvert_exporter": "python",
   "pygments_lexer": "ipython3",
   "version": "3.8.10"
  }
 },
 "nbformat": 4,
 "nbformat_minor": 5
}
